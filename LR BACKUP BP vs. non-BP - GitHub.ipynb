{
 "cells": [
  {
   "cell_type": "code",
   "execution_count": 1,
   "id": "1dbf4252",
   "metadata": {},
   "outputs": [],
   "source": [
    "import sklearn\n",
    "import nltk\n",
    "import pandas\n",
    "import xlrd\n",
    "import pandas as pd\n",
    "import re\n",
    "from nltk.stem import WordNetLemmatizer\n",
    "from nltk.corpus import stopwords\n",
    "from collections import Counter\n",
    "from nltk.util import ngrams\n",
    "import matplotlib.pyplot as plt\n",
    "from os import path\n",
    "from PIL import Image\n",
    "import numpy as np\n",
    "from random import sample\n",
    "import random\n",
    "from sklearn.feature_extraction.text import CountVectorizer,TfidfVectorizer\n",
    "from sklearn.model_selection import train_test_split\n",
    "from sklearn.linear_model import LogisticRegression\n",
    "import itertools\n",
    "import xlwt\n",
    "from xlwt import Workbook\n",
    "import xlsxwriter \n",
    "from sklearn.model_selection import cross_validate\n",
    "from sklearn.metrics import confusion_matrix\n",
    "from sklearn.model_selection import cross_val_score\n",
    "from sklearn.model_selection import train_test_split\n",
    "from sklearn import datasets\n",
    "from sklearn import svm\n",
    "from sklearn.model_selection import KFold\n",
    "from sklearn import metrics\n",
    "from sklearn.metrics import accuracy_score\n",
    "from sklearn.decomposition import PCA\n",
    "from sklearn.pipeline import Pipeline\n",
    "from sklearn.cluster import KMeans\n",
    "from sklearn.ensemble import RandomForestClassifier\n",
    "from collections import defaultdict\n",
    "from collections import Counter\n",
    "\n",
    "from textblob import TextBlob, Word\n",
    "import math\n",
    "from sklearn.feature_extraction import DictVectorizer\n",
    "from collections import Counter\n",
    "from sklearn.datasets import make_classification\n",
    "import imblearn\n",
    "from imblearn.under_sampling import RandomUnderSampler"
   ]
  },
  {
   "cell_type": "code",
   "execution_count": 2,
   "id": "5329081e",
   "metadata": {},
   "outputs": [],
   "source": [
    "def processed_abstract(abstract):   \n",
    "# This is a comment: the 1st abstract value is now stored in the variable abstract\n",
    "#- process it and store the tokens in some variable\n",
    "    NUM_result1 = re.sub(r'\\d+','NUMERIC', abstract)\n",
    "    PUNC_result1 = re.sub(r'[^A-Za-z0-9-/\\s]', ' ', NUM_result1)\n",
    "    PMID_token1 = nltk.word_tokenize(PUNC_result1)\n",
    "    \n",
    "    #PMID_token1 = nltk.wordpunct_tokenize(PUNC_result1)\n",
    "       \n",
    "    stop_words = set(stopwords.words('english'))\n",
    "\n",
    "    filtered_sentence1 = [w for w in PMID_token1 if not w.lower() in stop_words]\n",
    "    filtered_sentence1 = []\n",
    "    \n",
    "    for w in PMID_token1:\n",
    "        if w not in stop_words:\n",
    "            if w[-1] in [\".\",\",\",\":\", \";\"]:\n",
    "                w = \"\".join(w[0:-1])\n",
    "            filtered_sentence1.append(w)\n",
    "            \n",
    "    lemmatizer1 = WordNetLemmatizer()\n",
    "    lemmatized_abstract1 = [lemmatizer1.lemmatize(word) for word in filtered_sentence1]\n",
    "    listToStr = ' '.join([str(elem) for elem in lemmatized_abstract1])\n",
    "    \n",
    "\n",
    "    return listToStr"
   ]
  },
  {
   "cell_type": "code",
   "execution_count": 3,
   "id": "f6b7525f",
   "metadata": {},
   "outputs": [
    {
     "name": "stdout",
     "output_type": "stream",
     "text": [
      "      docID_Bibliome                                            AUTHORS  \\\n",
      "0                 10                      raju, ts; ray, mk; stanley, p   \n",
      "1                 11                    potvin, b; raju, ts; stanley, p   \n",
      "2                 14  hooker, ad; goldman, mh; markham, nh; james, d...   \n",
      "3                 19  eder, jp; chan, vtw; ng, sw; rizvi, na; zachar...   \n",
      "4                 39                           seewoster, t; lehmann, j   \n",
      "...              ...                                                ...   \n",
      "1045           10275  ho, steven c. l.; mariati; yeo, jessna h. m.; ...   \n",
      "1046           10276  haryadi, ryan; ho, steven; kok, yee jiun; pu, ...   \n",
      "1047           10277            wilkens, camila a.; gerdtzen, ziomara p   \n",
      "1048           10278  liu, jintao; wang, jie; fan, li; chen, xinning...   \n",
      "1049           10279  liu, z; dai, s; bones, j; ray, s; cha, s; karg...   \n",
      "\n",
      "                                                  TITLE  \\\n",
      "0     lec18, a dominant chinese hamster ovary glycos...   \n",
      "1     lec32 is a new mutation in chinese hamster ova...   \n",
      "2     n-glycans of recombinant human interferon-gamm...   \n",
      "3     dna topoisomerase-ii-alpha expression is assoc...   \n",
      "4     influence of targeted asparagine starvation on...   \n",
      "...                                                 ...   \n",
      "1045  impact of using different promoters and matrix...   \n",
      "1046  optimization of heavy chain and light chain si...   \n",
      "1047  comparative metabolic analysis of cho cell clo...   \n",
      "1048  galactose supplementation enhance sialylation ...   \n",
      "1049  a quantitative proteomic analysis of celluar r...   \n",
      "\n",
      "                                            JOURNAL  PUB_YEAR  \\\n",
      "0                   journal of biological chemistry      1995   \n",
      "1                   journal of biological chemistry      1995   \n",
      "2                  biotechnology and bioengineering      1995   \n",
      "3                                   cancer research      1995   \n",
      "4            applied microbiology and biotechnology      1995   \n",
      "...                                             ...       ...   \n",
      "1045                        molecular biotechnology      2015   \n",
      "1046                                       plos one      2015   \n",
      "1047                                       plos one      2015   \n",
      "1048  world journal of microbiology & biotechnology      2015   \n",
      "1049                         biotechnology progress      2015   \n",
      "\n",
      "                                               ABSTRACT  \\\n",
      "0     the dominant chinese hamster ovary cell glycos...   \n",
      "1     lec29.lec32 is a glycosylation mutant that was...   \n",
      "2     a recombinant chinese hamster ovary (cho) cell...   \n",
      "3     increased expression of dna topoisomerase ii a...   \n",
      "4     for the development of an expression system wi...   \n",
      "...                                                 ...   \n",
      "1045  high expression level and long-term expression...   \n",
      "1046  translocation of a nascent protein from the cy...   \n",
      "1047  cell engineering has been used to improve anim...   \n",
      "1048  sialic acid levels of therapeutic glycoprotein...   \n",
      "1049  a goal in recombinant protein production using...   \n",
      "\n",
      "                DIGITAL IDENTIFIER      PMID  BPdocID_nonBP  Label  \n",
      "0                              NaN   8530451             17      1  \n",
      "1                              NaN   8530468             18      1  \n",
      "2            10.1002/bit.260480612  18623533             19      1  \n",
      "3                              NaN   8521401             20      1  \n",
      "4                              NaN   8597537             21      1  \n",
      "...                            ...       ...            ...    ...  \n",
      "1045     10.1007/s12033-014-9809-2  25307181           1137      1  \n",
      "1046  10.1371/journal.pone.0116878  25706993           1150      1  \n",
      "1047  10.1371/journal.pone.0119053  25768021           1117      1  \n",
      "1048     10.1007/s11274-015-1864-8  25931375           1113      1  \n",
      "1049             10.1002/btpr.2090  25857574           1147      1  \n",
      "\n",
      "[1050 rows x 10 columns]\n"
     ]
    }
   ],
   "source": [
    "#About Set, open and read about set\n",
    "full_set2 = pd.read_excel(r\"C:\\Users\\jolsh\\Documents\\REU\\BP_nonBP_PMID (with rest categories).xlsx\", \n",
    "                          sheet_name = \"BP Set\")\n",
    "print(full_set2)"
   ]
  },
  {
   "cell_type": "code",
   "execution_count": 4,
   "id": "de6b2e14",
   "metadata": {},
   "outputs": [],
   "source": [
    "#replace empty abstracts\n",
    "full_set2['ABSTRACT'].fillna(\"ABSTRACT EMPTY\",inplace=True)"
   ]
  },
  {
   "cell_type": "code",
   "execution_count": 5,
   "id": "8ecc7c94",
   "metadata": {},
   "outputs": [
    {
     "name": "stdout",
     "output_type": "stream",
     "text": [
      "      docID_Bibliome                                            AUTHORS  \\\n",
      "0                 10                      raju, ts; ray, mk; stanley, p   \n",
      "1                 11                    potvin, b; raju, ts; stanley, p   \n",
      "2                 14  hooker, ad; goldman, mh; markham, nh; james, d...   \n",
      "3                 19  eder, jp; chan, vtw; ng, sw; rizvi, na; zachar...   \n",
      "4                 39                           seewoster, t; lehmann, j   \n",
      "...              ...                                                ...   \n",
      "1045           10275  ho, steven c. l.; mariati; yeo, jessna h. m.; ...   \n",
      "1046           10276  haryadi, ryan; ho, steven; kok, yee jiun; pu, ...   \n",
      "1047           10277            wilkens, camila a.; gerdtzen, ziomara p   \n",
      "1048           10278  liu, jintao; wang, jie; fan, li; chen, xinning...   \n",
      "1049           10279  liu, z; dai, s; bones, j; ray, s; cha, s; karg...   \n",
      "\n",
      "                                                  TITLE  \\\n",
      "0     lec18, a dominant chinese hamster ovary glycos...   \n",
      "1     lec32 is a new mutation in chinese hamster ova...   \n",
      "2     n-glycans of recombinant human interferon-gamm...   \n",
      "3     dna topoisomerase-ii-alpha expression is assoc...   \n",
      "4     influence of targeted asparagine starvation on...   \n",
      "...                                                 ...   \n",
      "1045  impact of using different promoters and matrix...   \n",
      "1046  optimization of heavy chain and light chain si...   \n",
      "1047  comparative metabolic analysis of cho cell clo...   \n",
      "1048  galactose supplementation enhance sialylation ...   \n",
      "1049  a quantitative proteomic analysis of celluar r...   \n",
      "\n",
      "                                            JOURNAL  PUB_YEAR  \\\n",
      "0                   journal of biological chemistry      1995   \n",
      "1                   journal of biological chemistry      1995   \n",
      "2                  biotechnology and bioengineering      1995   \n",
      "3                                   cancer research      1995   \n",
      "4            applied microbiology and biotechnology      1995   \n",
      "...                                             ...       ...   \n",
      "1045                        molecular biotechnology      2015   \n",
      "1046                                       plos one      2015   \n",
      "1047                                       plos one      2015   \n",
      "1048  world journal of microbiology & biotechnology      2015   \n",
      "1049                         biotechnology progress      2015   \n",
      "\n",
      "                                               ABSTRACT  \\\n",
      "0     the dominant chinese hamster ovary cell glycos...   \n",
      "1     lec29.lec32 is a glycosylation mutant that was...   \n",
      "2     a recombinant chinese hamster ovary (cho) cell...   \n",
      "3     increased expression of dna topoisomerase ii a...   \n",
      "4     for the development of an expression system wi...   \n",
      "...                                                 ...   \n",
      "1045  high expression level and long-term expression...   \n",
      "1046  translocation of a nascent protein from the cy...   \n",
      "1047  cell engineering has been used to improve anim...   \n",
      "1048  sialic acid levels of therapeutic glycoprotein...   \n",
      "1049  a goal in recombinant protein production using...   \n",
      "\n",
      "                DIGITAL IDENTIFIER      PMID  BPdocID_nonBP  Label  \\\n",
      "0                              NaN   8530451             17      1   \n",
      "1                              NaN   8530468             18      1   \n",
      "2            10.1002/bit.260480612  18623533             19      1   \n",
      "3                              NaN   8521401             20      1   \n",
      "4                              NaN   8597537             21      1   \n",
      "...                            ...       ...            ...    ...   \n",
      "1045     10.1007/s12033-014-9809-2  25307181           1137      1   \n",
      "1046  10.1371/journal.pone.0116878  25706993           1150      1   \n",
      "1047  10.1371/journal.pone.0119053  25768021           1117      1   \n",
      "1048     10.1007/s11274-015-1864-8  25931375           1113      1   \n",
      "1049             10.1002/btpr.2090  25857574           1147      1   \n",
      "\n",
      "                                    processed_abstracts  \n",
      "0     lecNUMERIC dominant chinese hamster ovary glyc...  \n",
      "1     lecNUMERIC new mutation chinese hamster ovary ...  \n",
      "2     n-glycans recombinant human interferon-gamma c...  \n",
      "3     dna topoisomerase-ii-alpha expression associat...  \n",
      "4     influence targeted asparagine starvation extra...  \n",
      "...                                                 ...  \n",
      "1045  impact using different promoter matrix attachm...  \n",
      "1046  optimization heavy chain light chain signal pe...  \n",
      "1047  comparative metabolic analysis cho cell clone ...  \n",
      "1048  galactose supplementation enhance sialylation ...  \n",
      "1049  quantitative proteomic analysis celluar respon...  \n",
      "\n",
      "[1050 rows x 11 columns]\n"
     ]
    }
   ],
   "source": [
    "#combine title and processed abstracts\n",
    "full_set2['processed_abstracts']=(full_set2['TITLE'] + ' ' + full_set2['ABSTRACT']).apply(lambda x:processed_abstract(x))\n",
    "print(full_set2)"
   ]
  },
  {
   "cell_type": "code",
   "execution_count": 6,
   "id": "d381b431",
   "metadata": {},
   "outputs": [],
   "source": [
    "#Analysis of About Set\n",
    "string2 = full_set2['processed_abstracts'].str.cat(sep=', ')\n",
    "\n",
    "def lemmatize_with_postag(sentence):\n",
    "    sent = TextBlob(sentence)\n",
    "    tag_dict = {\"J\": 'a', \n",
    "                \"N\": 'n', \n",
    "                \"V\": 'v', \n",
    "                \"R\": 'r'}\n",
    "    words_and_tags = [(w, tag_dict.get(pos[0], 'n')) for w, pos in sent.tags]    \n",
    "    lemmatized_list = [wd.lemmatize(tag) for wd, tag in words_and_tags]\n",
    "    return \" \".join(lemmatized_list)\n",
    "\n",
    "# Lemmatize\n",
    "sentence = string2\n",
    "lemma = lemmatize_with_postag(sentence)\n",
    "\n",
    "tokenize = nltk.word_tokenize(lemma)\n",
    "\n",
    "#will show just top x most frequent unigram, bigram, and trigrams\n",
    "unigram_series2 = (pd.Series(nltk.ngrams(tokenize, 1)))[0:]\n",
    "bigram_series2 = (pd.Series(nltk.ngrams(tokenize, 2)))[0:]\n",
    "\n",
    "#stores all the unigram, bigram, and trigrams for later weighting\n",
    "#unigram_series2 = (nltk.ngrams(filtered_sentence, 1))\n",
    "#bigram_series2 = (nltk.ngrams(filtered_sentence, 2)))"
   ]
  },
  {
   "cell_type": "code",
   "execution_count": 7,
   "id": "4a6f1bc7",
   "metadata": {},
   "outputs": [
    {
     "name": "stdout",
     "output_type": "stream",
     "text": [
      "158666\n"
     ]
    }
   ],
   "source": [
    "joined_unigram2 = []\n",
    "for x in unigram_series2:\n",
    "    join = ''.join(x)\n",
    "    joined_unigram2.append(join)\n",
    "print(len(joined_unigram2))"
   ]
  },
  {
   "cell_type": "code",
   "execution_count": 8,
   "id": "c98db0df",
   "metadata": {},
   "outputs": [
    {
     "name": "stdout",
     "output_type": "stream",
     "text": [
      "158665\n"
     ]
    }
   ],
   "source": [
    "joined_bigram2 = []\n",
    "for x in bigram_series2:\n",
    "    join = ' '.join(x)\n",
    "    joined_bigram2.append(join)\n",
    "print(len(joined_bigram2))"
   ]
  },
  {
   "cell_type": "code",
   "execution_count": 9,
   "id": "3769e6c3",
   "metadata": {},
   "outputs": [
    {
     "name": "stdout",
     "output_type": "stream",
     "text": [
      "12068\n",
      "12068\n"
     ]
    }
   ],
   "source": [
    "#Create dictionary of unique unigram terms\n",
    "DF3 = defaultdict(int)\n",
    "words = joined_unigram2\n",
    "unique_words = set(words)\n",
    "\n",
    "oldcount = 0\n",
    "print(len(set(words)))\n",
    "for x in full_set2['processed_abstracts']:\n",
    "    for word in unique_words:\n",
    "        if len(word) >= 2 and word in x:\n",
    "            DF3[word] += 1\n",
    "        else:\n",
    "            oldcount = DF3.get(word)\n",
    "            if oldcount is None:\n",
    "                DF3[word] = 0\n",
    "            else:\n",
    "                DF3[word] = DF3[word]\n",
    "print(len(DF3))"
   ]
  },
  {
   "cell_type": "code",
   "execution_count": 10,
   "id": "006e6664",
   "metadata": {},
   "outputs": [
    {
     "name": "stdout",
     "output_type": "stream",
     "text": [
      "94217\n",
      "94217\n"
     ]
    }
   ],
   "source": [
    "#Create dictionary of unique bigram terms\n",
    "DF4 = defaultdict(int)\n",
    "words = joined_bigram2\n",
    "unique_words = set(words)\n",
    "\n",
    "oldcount = 0\n",
    "print(len(set(words)))\n",
    "for x in full_set2['processed_abstracts']:\n",
    "    for word in unique_words:\n",
    "        if len(word) >= 2 and word in x:\n",
    "            DF4[word] += 1\n",
    "        else:\n",
    "            oldcount = DF4.get(word)\n",
    "            if oldcount is None:\n",
    "                DF4[word] = 0\n",
    "            else:\n",
    "                DF4[word] = DF4[word]\n",
    "print(len(DF4))"
   ]
  },
  {
   "cell_type": "code",
   "execution_count": 11,
   "id": "18d737a1",
   "metadata": {},
   "outputs": [],
   "source": [
    "#merge into a dataframe\n",
    "dfb3 = pd.DataFrame.from_dict(DF3, orient = 'index', columns = ['count2'])\n",
    "dfb3 = dfb3.reset_index()\n",
    "rslt_dfb3 = dfb3.sort_values(by = 'count2', ascending = False)"
   ]
  },
  {
   "cell_type": "code",
   "execution_count": 12,
   "id": "95898d1f",
   "metadata": {},
   "outputs": [],
   "source": [
    "dfb4 = pd.DataFrame.from_dict(DF4, orient = 'index', columns = ['count2'])\n",
    "dfb4 = dfb4.reset_index()\n",
    "rslt_dfb4 = dfb4.sort_values(by = 'count2', ascending = False)"
   ]
  },
  {
   "cell_type": "code",
   "execution_count": 13,
   "id": "547198cd",
   "metadata": {},
   "outputs": [
    {
     "name": "stdout",
     "output_type": "stream",
     "text": [
      "               index  count2\n",
      "3440              ch    1046\n",
      "5200              re    1044\n",
      "658               te    1043\n",
      "5476              se    1040\n",
      "4427              er    1040\n",
      "...              ...     ...\n",
      "5647        factor-i       6\n",
      "3261           begin       6\n",
      "4794         unclear       6\n",
      "5274  classification       6\n",
      "8632    untranslated       6\n",
      "\n",
      "[3500 rows x 2 columns]\n",
      "                 index  count2\n",
      "89075              e c     943\n",
      "36168    hamster ovary     894\n",
      "82855       chinese ha     889\n",
      "68204  chinese hamster     888\n",
      "39052              l c     805\n",
      "...                ...     ...\n",
      "91568    nutrient feed       9\n",
      "60079        stem cell       9\n",
      "5533       NUMERIC two       9\n",
      "87025        one major       9\n",
      "24833           e heat       9\n",
      "\n",
      "[1500 rows x 2 columns]\n"
     ]
    }
   ],
   "source": [
    "#can set to top values using integer in print statement\n",
    "#ordered by document frequency for Background set unigrams use .iloc\n",
    "print(rslt_dfb3.head(3500))\n",
    "##ordered by document frequency for Background set bigraams\n",
    "print(rslt_dfb4.head(1500))"
   ]
  },
  {
   "cell_type": "code",
   "execution_count": 14,
   "id": "e6f891af",
   "metadata": {},
   "outputs": [
    {
     "name": "stdout",
     "output_type": "stream",
     "text": [
      "      docID_Bibliome                                            AUTHORS  \\\n",
      "0                  1  li, zy; otevrel, t; gao, yj; cheng, hl; seed, ...   \n",
      "1                  2  chang, rsl; lotti, vj; chen, tb; omalley, ss; ...   \n",
      "2                  3  robineau, p; lonchampt, m; kucharczyk, n; krau...   \n",
      "3                  4    wood, ic; roopra, a; harrington, c; buckley, nj   \n",
      "4                  5                    zimprich, a; simon, t; hollt, v   \n",
      "...              ...                                                ...   \n",
      "9686           10275  ho, steven c. l.; mariati; yeo, jessna h. m.; ...   \n",
      "9687           10276  haryadi, ryan; ho, steven; kok, yee jiun; pu, ...   \n",
      "9688           10277            wilkens, camila a.; gerdtzen, ziomara p   \n",
      "9689           10278  liu, jintao; wang, jie; fan, li; chen, xinning...   \n",
      "9690           10279  liu, z; dai, s; bones, j; ray, s; cha, s; karg...   \n",
      "\n",
      "                                                  TITLE  \\\n",
      "0     the xrcc4 gene encodes a novel protein involve...   \n",
      "1     in vitro pharmacology of an angiotensin at(1) ...   \n",
      "2     in vitro and in vivo pharmacology of s 16474, ...   \n",
      "3     structure of the m4 cholinergic muscarinic rec...   \n",
      "4     transfected rat mu opioid receptors (rmor1 and...   \n",
      "...                                                 ...   \n",
      "9686  impact of using different promoters and matrix...   \n",
      "9687  optimization of heavy chain and light chain si...   \n",
      "9688  comparative metabolic analysis of cho cell clo...   \n",
      "9689  galactose supplementation enhance sialylation ...   \n",
      "9690  a quantitative proteomic analysis of celluar r...   \n",
      "\n",
      "                                            JOURNAL  PUB_YEAR  \\\n",
      "0                                              cell      1995   \n",
      "1                  european journal of pharmacology      1995   \n",
      "2                  european journal of pharmacology      1995   \n",
      "3                   journal of biological chemistry      1995   \n",
      "4                                       neuroreport      1995   \n",
      "...                                             ...       ...   \n",
      "9686                        molecular biotechnology      2015   \n",
      "9687                                       plos one      2015   \n",
      "9688                                       plos one      2015   \n",
      "9689  world journal of microbiology & biotechnology      2015   \n",
      "9690                         biotechnology progress      2015   \n",
      "\n",
      "                                               ABSTRACT  \\\n",
      "0     the xr-1 chinese hamster ovary cell line is im...   \n",
      "1     l-163,017 (6-[benzoylamino]-7-methyl-2-propyl-...   \n",
      "2     since tachykinins released from lung sensory n...   \n",
      "3     cholinergic muscarinic receptor genes are memb...   \n",
      "4     the mu opioid agonist damgo increases intracel...   \n",
      "...                                                 ...   \n",
      "9686  high expression level and long-term expression...   \n",
      "9687  translocation of a nascent protein from the cy...   \n",
      "9688  cell engineering has been used to improve anim...   \n",
      "9689  sialic acid levels of therapeutic glycoprotein...   \n",
      "9690  a goal in recombinant protein production using...   \n",
      "\n",
      "                    DIGITAL IDENTIFIER      PMID BPdocID_nonBP  Label  \n",
      "0         10.1016/0092-8674(95)90135-3   8548796         nonbp      0  \n",
      "1         10.1016/0014-2999(95)00563-3   8750703         nonbp      0  \n",
      "2         10.1016/0014-2999(95)00604-4   8750733         nonbp      0  \n",
      "3                                  NaN   8537349         nonbp      0  \n",
      "4     10.1097/00001756-199512000-00012   8742415         nonbp      0  \n",
      "...                                ...       ...           ...    ...  \n",
      "9686         10.1007/s12033-014-9809-2  25307181          1137      1  \n",
      "9687      10.1371/journal.pone.0116878  25706993          1150      1  \n",
      "9688      10.1371/journal.pone.0119053  25768021          1117      1  \n",
      "9689         10.1007/s11274-015-1864-8  25931375          1113      1  \n",
      "9690                 10.1002/btpr.2090  25857574          1147      1  \n",
      "\n",
      "[9691 rows x 10 columns]\n"
     ]
    }
   ],
   "source": [
    "#Background Set \n",
    "full_set = pd.read_excel(r\"C:\\Users\\jolsh\\Documents\\REU\\BP_nonBP_PMID (with rest categories).xlsx\", sheet_name = \"BP_NONBP for LR\")\n",
    "print(full_set)"
   ]
  },
  {
   "cell_type": "code",
   "execution_count": 15,
   "id": "70dcfeca",
   "metadata": {},
   "outputs": [],
   "source": [
    "full_set['ABSTRACT'].fillna(\"ABSTRACT EMPTY\",inplace=True)"
   ]
  },
  {
   "cell_type": "code",
   "execution_count": 16,
   "id": "0e9dc57c",
   "metadata": {},
   "outputs": [
    {
     "name": "stdout",
     "output_type": "stream",
     "text": [
      "      docID_Bibliome                                            AUTHORS  \\\n",
      "0                  1  li, zy; otevrel, t; gao, yj; cheng, hl; seed, ...   \n",
      "1                  2  chang, rsl; lotti, vj; chen, tb; omalley, ss; ...   \n",
      "2                  3  robineau, p; lonchampt, m; kucharczyk, n; krau...   \n",
      "3                  4    wood, ic; roopra, a; harrington, c; buckley, nj   \n",
      "4                  5                    zimprich, a; simon, t; hollt, v   \n",
      "...              ...                                                ...   \n",
      "9686           10275  ho, steven c. l.; mariati; yeo, jessna h. m.; ...   \n",
      "9687           10276  haryadi, ryan; ho, steven; kok, yee jiun; pu, ...   \n",
      "9688           10277            wilkens, camila a.; gerdtzen, ziomara p   \n",
      "9689           10278  liu, jintao; wang, jie; fan, li; chen, xinning...   \n",
      "9690           10279  liu, z; dai, s; bones, j; ray, s; cha, s; karg...   \n",
      "\n",
      "                                                  TITLE  \\\n",
      "0     the xrcc4 gene encodes a novel protein involve...   \n",
      "1     in vitro pharmacology of an angiotensin at(1) ...   \n",
      "2     in vitro and in vivo pharmacology of s 16474, ...   \n",
      "3     structure of the m4 cholinergic muscarinic rec...   \n",
      "4     transfected rat mu opioid receptors (rmor1 and...   \n",
      "...                                                 ...   \n",
      "9686  impact of using different promoters and matrix...   \n",
      "9687  optimization of heavy chain and light chain si...   \n",
      "9688  comparative metabolic analysis of cho cell clo...   \n",
      "9689  galactose supplementation enhance sialylation ...   \n",
      "9690  a quantitative proteomic analysis of celluar r...   \n",
      "\n",
      "                                            JOURNAL  PUB_YEAR  \\\n",
      "0                                              cell      1995   \n",
      "1                  european journal of pharmacology      1995   \n",
      "2                  european journal of pharmacology      1995   \n",
      "3                   journal of biological chemistry      1995   \n",
      "4                                       neuroreport      1995   \n",
      "...                                             ...       ...   \n",
      "9686                        molecular biotechnology      2015   \n",
      "9687                                       plos one      2015   \n",
      "9688                                       plos one      2015   \n",
      "9689  world journal of microbiology & biotechnology      2015   \n",
      "9690                         biotechnology progress      2015   \n",
      "\n",
      "                                               ABSTRACT  \\\n",
      "0     the xr-1 chinese hamster ovary cell line is im...   \n",
      "1     l-163,017 (6-[benzoylamino]-7-methyl-2-propyl-...   \n",
      "2     since tachykinins released from lung sensory n...   \n",
      "3     cholinergic muscarinic receptor genes are memb...   \n",
      "4     the mu opioid agonist damgo increases intracel...   \n",
      "...                                                 ...   \n",
      "9686  high expression level and long-term expression...   \n",
      "9687  translocation of a nascent protein from the cy...   \n",
      "9688  cell engineering has been used to improve anim...   \n",
      "9689  sialic acid levels of therapeutic glycoprotein...   \n",
      "9690  a goal in recombinant protein production using...   \n",
      "\n",
      "                    DIGITAL IDENTIFIER      PMID BPdocID_nonBP  Label  \\\n",
      "0         10.1016/0092-8674(95)90135-3   8548796         nonbp      0   \n",
      "1         10.1016/0014-2999(95)00563-3   8750703         nonbp      0   \n",
      "2         10.1016/0014-2999(95)00604-4   8750733         nonbp      0   \n",
      "3                                  NaN   8537349         nonbp      0   \n",
      "4     10.1097/00001756-199512000-00012   8742415         nonbp      0   \n",
      "...                                ...       ...           ...    ...   \n",
      "9686         10.1007/s12033-014-9809-2  25307181          1137      1   \n",
      "9687      10.1371/journal.pone.0116878  25706993          1150      1   \n",
      "9688      10.1371/journal.pone.0119053  25768021          1117      1   \n",
      "9689         10.1007/s11274-015-1864-8  25931375          1113      1   \n",
      "9690                 10.1002/btpr.2090  25857574          1147      1   \n",
      "\n",
      "                                    processed_abstracts  \n",
      "0     xrccNUMERIC gene encodes novel protein involve...  \n",
      "1     vitro pharmacology angiotensin NUMERIC recepto...  \n",
      "2     vitro vivo pharmacology NUMERIC novel dual tac...  \n",
      "3     structure mNUMERIC cholinergic muscarinic rece...  \n",
      "4     transfected rat mu opioid receptor rmorNUMERIC...  \n",
      "...                                                 ...  \n",
      "9686  impact using different promoter matrix attachm...  \n",
      "9687  optimization heavy chain light chain signal pe...  \n",
      "9688  comparative metabolic analysis cho cell clone ...  \n",
      "9689  galactose supplementation enhance sialylation ...  \n",
      "9690  quantitative proteomic analysis celluar respon...  \n",
      "\n",
      "[9691 rows x 11 columns]\n"
     ]
    }
   ],
   "source": [
    "full_set['processed_abstracts']=(full_set['TITLE'] + ' ' + full_set['ABSTRACT']).apply(lambda x:processed_abstract(x))\n",
    "print(full_set)"
   ]
  },
  {
   "cell_type": "code",
   "execution_count": 17,
   "id": "d8dd590f",
   "metadata": {},
   "outputs": [
    {
     "name": "stdout",
     "output_type": "stream",
     "text": [
      "12068\n"
     ]
    }
   ],
   "source": [
    "DF1 = defaultdict(int)\n",
    "words = joined_unigram2\n",
    "unique_words = set(words)\n",
    "oldcount = 0\n",
    "for x in full_set['processed_abstracts']:\n",
    "    for word in unique_words:\n",
    "        if len(word) >= 2 and word in x:\n",
    "            DF1[word] += 1\n",
    "        else:\n",
    "            oldcount = DF1.get(word)\n",
    "            if oldcount is None:\n",
    "                DF1[word] = 0\n",
    "            else:\n",
    "                DF1[word] = DF1[word]\n",
    "print(len(DF1))"
   ]
  },
  {
   "cell_type": "code",
   "execution_count": 18,
   "id": "9d12659b",
   "metadata": {},
   "outputs": [
    {
     "name": "stdout",
     "output_type": "stream",
     "text": [
      "0\n",
      "94217\n"
     ]
    }
   ],
   "source": [
    "DF2 = defaultdict(int)\n",
    "print(len(DF2))\n",
    "words = joined_bigram2\n",
    "unique_words = set(words)\n",
    "\n",
    "oldcount = 0\n",
    "for x in full_set['processed_abstracts']:\n",
    "    for word in unique_words:\n",
    "        if len(word) >= 2 and word in x:\n",
    "            DF2[word] += 1\n",
    "        else:\n",
    "            oldcount = DF2.get(word)\n",
    "            if oldcount is None:\n",
    "                DF2[word] = 0\n",
    "            else:\n",
    "                DF2[word] = DF2[word]\n",
    "print(len(DF2))"
   ]
  },
  {
   "cell_type": "code",
   "execution_count": 19,
   "id": "398a5d9d",
   "metadata": {},
   "outputs": [],
   "source": [
    "dfb1 = pd.DataFrame.from_dict(DF1, orient = 'index', columns = ['count1'])\n",
    "dfb1 = dfb1.reset_index()\n",
    "dfb1 ['word'] = dfb1['index']\n",
    "rslt_dfb1 = dfb1.sort_values(by = 'count1', ascending = False)"
   ]
  },
  {
   "cell_type": "code",
   "execution_count": 20,
   "id": "c59ab283",
   "metadata": {},
   "outputs": [],
   "source": [
    "dfb2 = pd.DataFrame.from_dict(DF2, orient = 'index', columns = ['count1'])\n",
    "dfb2 = dfb2.reset_index()\n",
    "dfb2 ['word'] = dfb2['index']\n",
    "rslt_dfb2 = dfb2.sort_values(by = 'count1', ascending = False)"
   ]
  },
  {
   "cell_type": "code",
   "execution_count": 21,
   "id": "3793c576",
   "metadata": {},
   "outputs": [
    {
     "name": "stdout",
     "output_type": "stream",
     "text": [
      "                 index  count1             word\n",
      "5200                re    9567               re\n",
      "658                 te    9566               te\n",
      "4427                er    9530               er\n",
      "11683              ion    9529              ion\n",
      "478                 an    9523               an\n",
      "...                ...     ...              ...\n",
      "11896        redundant      11        redundant\n",
      "5220     desialylation      11    desialylation\n",
      "6538   mannose-binding      10  mannose-binding\n",
      "11195           starve      10           starve\n",
      "3429     methylglyoxal      10    methylglyoxal\n",
      "\n",
      "[6000 rows x 3 columns]\n",
      "                   index  count1               word\n",
      "36168      hamster ovary    9008      hamster ovary\n",
      "82855         chinese ha    8927         chinese ha\n",
      "68204    chinese hamster    8926    chinese hamster\n",
      "89075                e c    8243                e c\n",
      "39052                l c    6574                l c\n",
      "...                  ...     ...                ...\n",
      "58228           ri alpha      12           ri alpha\n",
      "85894        protein gpi      12        protein gpi\n",
      "71170      culture model      12      culture model\n",
      "55926  cho glycosylation      12  cho glycosylation\n",
      "62683      data analysis      12      data analysis\n",
      "\n",
      "[7000 rows x 3 columns]\n"
     ]
    }
   ],
   "source": [
    "#can set to top values using integer in print statement\n",
    "#ordered by document frequency for Background set unigrams use .iloc\n",
    "#dfb1['words'] = dfb1 ['index']\n",
    "print(rslt_dfb1.head(6000))\n",
    "##ordered by document frequency for Background set bigraams\n",
    "#dfb2['words'] = dfb2 ['index']\n",
    "print(rslt_dfb2.head(7000))"
   ]
  },
  {
   "cell_type": "code",
   "execution_count": 22,
   "id": "39b4770d",
   "metadata": {},
   "outputs": [
    {
     "name": "stdout",
     "output_type": "stream",
     "text": [
      "                                             index  count1  \\\n",
      "0                                           resume      23   \n",
      "1                                 high-performance      49   \n",
      "2                                        elevation     114   \n",
      "3      NUMERIC-amino-NUMERIC-imidazole-carboxamide       1   \n",
      "4                                     carcinogenic      42   \n",
      "...                                            ...     ...   \n",
      "12063                                         grow    1490   \n",
      "12064                                   responsive     219   \n",
      "12065                                  norhabditis      30   \n",
      "12066                            glcnac-terminated       2   \n",
      "12067                                     assembly     221   \n",
      "\n",
      "                                              word  \\\n",
      "0                                           resume   \n",
      "1                                 high-performance   \n",
      "2                                        elevation   \n",
      "3      NUMERIC-amino-NUMERIC-imidazole-carboxamide   \n",
      "4                                     carcinogenic   \n",
      "...                                            ...   \n",
      "12063                                         grow   \n",
      "12064                                   responsive   \n",
      "12065                                  norhabditis   \n",
      "12066                            glcnac-terminated   \n",
      "12067                                     assembly   \n",
      "\n",
      "                                             index  count2  \n",
      "0                                           resume       2  \n",
      "1                                 high-performance      13  \n",
      "2                                        elevation       8  \n",
      "3      NUMERIC-amino-NUMERIC-imidazole-carboxamide       1  \n",
      "4                                     carcinogenic       3  \n",
      "...                                            ...     ...  \n",
      "12063                                         grow     396  \n",
      "12064                                   responsive      15  \n",
      "12065                                  norhabditis       2  \n",
      "12066                            glcnac-terminated       1  \n",
      "12067                                     assembly      27  \n",
      "\n",
      "[12068 rows x 5 columns]\n"
     ]
    }
   ],
   "source": [
    "#create dataframe with combined counts from about and background set\n",
    "result1 = pd.concat([dfb1,dfb3], axis=1)\n",
    "print(result1)"
   ]
  },
  {
   "cell_type": "code",
   "execution_count": 23,
   "id": "3a0707fe",
   "metadata": {},
   "outputs": [
    {
     "name": "stdout",
     "output_type": "stream",
     "text": [
      "                         index  count1                     word  \\\n",
      "0         copynumbers decrease       1     copynumbers decrease   \n",
      "1            genome futNUMERIC       1        genome futNUMERIC   \n",
      "2                contain mouse       1            contain mouse   \n",
      "3      lcNUMERIC-ii autophagic       1  lcNUMERIC-ii autophagic   \n",
      "4              bearing variety       1          bearing variety   \n",
      "...                        ...     ...                      ...   \n",
      "94212     successfully remodel       1     successfully remodel   \n",
      "94213         involve ldl-chol       0         involve ldl-chol   \n",
      "94214             added tracer       1             added tracer   \n",
      "94215              reduce cell       6              reduce cell   \n",
      "94216         engineering xiap       1         engineering xiap   \n",
      "\n",
      "                         index  count2  \n",
      "0         copynumbers decrease       1  \n",
      "1            genome futNUMERIC       1  \n",
      "2                contain mouse       0  \n",
      "3      lcNUMERIC-ii autophagic       1  \n",
      "4              bearing variety       1  \n",
      "...                        ...     ...  \n",
      "94212     successfully remodel       1  \n",
      "94213         involve ldl-chol       0  \n",
      "94214             added tracer       1  \n",
      "94215              reduce cell       1  \n",
      "94216         engineering xiap       1  \n",
      "\n",
      "[94217 rows x 5 columns]\n"
     ]
    }
   ],
   "source": [
    "#create dataframe with combined counts from about and background set\n",
    "result2 = pd.concat([dfb2,dfb4], axis=1)\n",
    "print(result2)"
   ]
  },
  {
   "cell_type": "code",
   "execution_count": 24,
   "id": "522a8835",
   "metadata": {},
   "outputs": [
    {
     "name": "stdout",
     "output_type": "stream",
     "text": [
      "        index  count1     word    index  count2\n",
      "3440       ch    9446       ch       ch    1046\n",
      "5200       re    9567       re       re    1044\n",
      "658        te    9566       te       te    1043\n",
      "5476       se    9467       se       se    1040\n",
      "4427       er    9530       er       er    1040\n",
      "...       ...     ...      ...      ...     ...\n",
      "2652        s       0        s        s       0\n",
      "76    fortify       1  fortify  fortify       0\n",
      "4289  precede      31  precede  precede       0\n",
      "5600        f       0        f        f       0\n",
      "978   endorse       3  endorse  endorse       0\n",
      "\n",
      "[12068 rows x 5 columns]\n"
     ]
    }
   ],
   "source": [
    "#sort based off of frequency in about set\n",
    "rslt1 = result1.sort_values(by = 'count2', ascending = False)\n",
    "print(rslt1)"
   ]
  },
  {
   "cell_type": "code",
   "execution_count": 25,
   "id": "74a25554",
   "metadata": {
    "scrolled": false
   },
   "outputs": [
    {
     "name": "stdout",
     "output_type": "stream",
     "text": [
      "                    index  count1                word               index  \\\n",
      "89075                 e c    8243                 e c                 e c   \n",
      "36168       hamster ovary    9008       hamster ovary       hamster ovary   \n",
      "82855          chinese ha    8927          chinese ha          chinese ha   \n",
      "68204     chinese hamster    8926     chinese hamster     chinese hamster   \n",
      "39052                 l c    6574                 l c                 l c   \n",
      "...                   ...     ...                 ...                 ...   \n",
      "78724        line profile       0        line profile        line profile   \n",
      "78722  extend cultivation       0  extend cultivation  extend cultivation   \n",
      "15634       remove mature       0       remove mature       remove mature   \n",
      "58269      favour promote       0      favour promote      favour promote   \n",
      "47381  appear independent       0  appear independent  appear independent   \n",
      "\n",
      "       count2  \n",
      "89075     943  \n",
      "36168     894  \n",
      "82855     889  \n",
      "68204     888  \n",
      "39052     805  \n",
      "...       ...  \n",
      "78724       0  \n",
      "78722       0  \n",
      "15634       0  \n",
      "58269       0  \n",
      "47381       0  \n",
      "\n",
      "[94217 rows x 5 columns]\n"
     ]
    }
   ],
   "source": [
    "rslt2 = result2.sort_values(by = 'count2', ascending = False)\n",
    "print(rslt2)"
   ]
  },
  {
   "cell_type": "code",
   "execution_count": 26,
   "id": "e1540e04",
   "metadata": {},
   "outputs": [
    {
     "name": "stdout",
     "output_type": "stream",
     "text": [
      "               index  count1            word           index  count2\n",
      "3440              ch    9446              ch              ch    1046\n",
      "5200              re    9567              re              re    1044\n",
      "658               te    9566              te              te    1043\n",
      "5476              se    9467              se              se    1040\n",
      "4427              er    9530              er              er    1040\n",
      "...              ...     ...             ...             ...     ...\n",
      "5647        factor-i      39        factor-i        factor-i       6\n",
      "3261           begin      58           begin           begin       6\n",
      "4794         unclear     147         unclear         unclear       6\n",
      "5274  classification      22  classification  classification       6\n",
      "8632    untranslated      68    untranslated    untranslated       6\n",
      "\n",
      "[3500 rows x 5 columns]\n"
     ]
    }
   ],
   "source": [
    "#count 1 is for background set count 2 is for about set, looking at unigrams\n",
    "dict1 = rslt1.head(3500)\n",
    "print(dict1)"
   ]
  },
  {
   "cell_type": "code",
   "execution_count": 27,
   "id": "8ded6024",
   "metadata": {},
   "outputs": [
    {
     "name": "stdout",
     "output_type": "stream",
     "text": [
      "                 index  count1             word            index  count2\n",
      "89075              e c    8243              e c              e c     943\n",
      "36168    hamster ovary    9008    hamster ovary    hamster ovary     894\n",
      "82855       chinese ha    8927       chinese ha       chinese ha     889\n",
      "68204  chinese hamster    8926  chinese hamster  chinese hamster     888\n",
      "39052              l c    6574              l c              l c     805\n",
      "...                ...     ...              ...              ...     ...\n",
      "91568    nutrient feed      10    nutrient feed    nutrient feed       9\n",
      "60079        stem cell      46        stem cell        stem cell       9\n",
      "5533       NUMERIC two     120      NUMERIC two      NUMERIC two       9\n",
      "87025        one major      36        one major        one major       9\n",
      "24833           e heat      51           e heat           e heat       9\n",
      "\n",
      "[1500 rows x 5 columns]\n"
     ]
    }
   ],
   "source": [
    "#count 1 is for background set count 2 is for about set, looking at bigrams\n",
    "dict2 = rslt2.head(1500)\n",
    "print(dict2)"
   ]
  },
  {
   "cell_type": "code",
   "execution_count": 28,
   "id": "88420472",
   "metadata": {},
   "outputs": [
    {
     "name": "stderr",
     "output_type": "stream",
     "text": [
      "C:\\Users\\jolsh\\anaconda3\\lib\\site-packages\\pandas\\core\\indexing.py:1599: SettingWithCopyWarning: \n",
      "A value is trying to be set on a copy of a slice from a DataFrame.\n",
      "Try using .loc[row_indexer,col_indexer] = value instead\n",
      "\n",
      "See the caveats in the documentation: https://pandas.pydata.org/pandas-docs/stable/user_guide/indexing.html#returning-a-view-versus-a-copy\n",
      "  self.obj[key] = infer_fill_value(value)\n",
      "C:\\Users\\jolsh\\anaconda3\\lib\\site-packages\\pandas\\core\\indexing.py:1720: SettingWithCopyWarning: \n",
      "A value is trying to be set on a copy of a slice from a DataFrame.\n",
      "Try using .loc[row_indexer,col_indexer] = value instead\n",
      "\n",
      "See the caveats in the documentation: https://pandas.pydata.org/pandas-docs/stable/user_guide/indexing.html#returning-a-view-versus-a-copy\n",
      "  self._setitem_single_column(loc, value, pi)\n"
     ]
    },
    {
     "name": "stdout",
     "output_type": "stream",
     "text": [
      "               index  count1            word           index  count2    scores\n",
      "3440              ch    9446              ch              ch    1046  0.000545\n",
      "5200              re    9567              re              re    1044  0.000089\n",
      "658               te    9566              te              te    1043  0.000079\n",
      "5476              se    9467              se              se    1040  0.000314\n",
      "4427              er    9530              er              er    1040  0.000116\n",
      "...              ...     ...             ...             ...     ...       ...\n",
      "5647        factor-i      39        factor-i        factor-i       6  0.009318\n",
      "3261           begin      58           begin           begin       6 -0.001388\n",
      "4794         unclear     147         unclear         unclear       6 -0.039606\n",
      "5274  classification      22  classification  classification       6  0.020966\n",
      "8632    untranslated      68    untranslated    untranslated       6 -0.006463\n",
      "\n",
      "[3500 rows x 6 columns]\n"
     ]
    }
   ],
   "source": [
    "#perform eGift scoring\n",
    "Na = 1050\n",
    "Nb = 9690\n",
    "for index,row in dict1.iterrows():\n",
    "        dict1.at[index,'scores'] = (((row['count2'])/(Na)) - ((row['count1'])/(Nb))) * np.log (Nb / (row['count1'])) \n",
    "print(dict1)"
   ]
  },
  {
   "cell_type": "code",
   "execution_count": 29,
   "id": "8b97c09f",
   "metadata": {
    "scrolled": false
   },
   "outputs": [
    {
     "name": "stdout",
     "output_type": "stream",
     "text": [
      "             index  count1          word         index  count2    scores\n",
      "0     productivity     323  productivity  productivity     251  0.699675\n",
      "1       production    1323    production    production     472  0.623226\n",
      "2          product    1945       product       product     617  0.621291\n",
      "3          culture    1802       culture       culture     543  0.557107\n",
      "4            batch     256         batch         batch     180  0.526917\n",
      "...            ...     ...           ...           ...     ...       ...\n",
      "3495           cep    4045           cep           cep     159 -0.232392\n",
      "3496       binding    2811       binding       binding     105 -0.235250\n",
      "3497    activation    1960    activation    activation      57 -0.236502\n",
      "3498       agonist    1488       agonist       agonist      12 -0.266307\n",
      "3499      receptor    3599      receptor      receptor      87 -0.285798\n",
      "\n",
      "[3500 rows x 6 columns]\n",
      "             index  count1          word         index  count2    scores\n",
      "0     productivity     323  productivity  productivity     251  0.699675\n",
      "1       production    1323    production    production     472  0.623226\n",
      "2          product    1945       product       product     617  0.621291\n",
      "3          culture    1802       culture       culture     543  0.557107\n",
      "4            batch     256         batch         batch     180  0.526917\n",
      "...            ...     ...           ...           ...     ...       ...\n",
      "3495           cep    4045           cep           cep     159 -0.232392\n",
      "3496       binding    2811       binding       binding     105 -0.235250\n",
      "3497    activation    1960    activation    activation      57 -0.236502\n",
      "3498       agonist    1488       agonist       agonist      12 -0.266307\n",
      "3499      receptor    3599      receptor      receptor      87 -0.285798\n",
      "\n",
      "[3500 rows x 6 columns]\n"
     ]
    }
   ],
   "source": [
    "rslt_score1 = dict1.sort_values(by = 'scores', ascending = False).reset_index(drop = True)\n",
    "rslt_score1.to_csv('eGiftScoringUnigramBP.tsv',sep = '\\t')\n",
    "print(rslt_score1)\n",
    "\n",
    "#for use later \n",
    "rslt_score_for_fisher1 = dict1.sort_values(by = 'scores', ascending = False).reset_index(drop = True)\n",
    "print(rslt_score_for_fisher1)\n",
    "\n"
   ]
  },
  {
   "cell_type": "code",
   "execution_count": 30,
   "id": "6e865126",
   "metadata": {},
   "outputs": [
    {
     "name": "stderr",
     "output_type": "stream",
     "text": [
      "C:\\Users\\jolsh\\anaconda3\\lib\\site-packages\\pandas\\core\\indexing.py:1599: SettingWithCopyWarning: \n",
      "A value is trying to be set on a copy of a slice from a DataFrame.\n",
      "Try using .loc[row_indexer,col_indexer] = value instead\n",
      "\n",
      "See the caveats in the documentation: https://pandas.pydata.org/pandas-docs/stable/user_guide/indexing.html#returning-a-view-versus-a-copy\n",
      "  self.obj[key] = infer_fill_value(value)\n",
      "C:\\Users\\jolsh\\anaconda3\\lib\\site-packages\\pandas\\core\\indexing.py:1720: SettingWithCopyWarning: \n",
      "A value is trying to be set on a copy of a slice from a DataFrame.\n",
      "Try using .loc[row_indexer,col_indexer] = value instead\n",
      "\n",
      "See the caveats in the documentation: https://pandas.pydata.org/pandas-docs/stable/user_guide/indexing.html#returning-a-view-versus-a-copy\n",
      "  self._setitem_single_column(loc, value, pi)\n"
     ]
    },
    {
     "name": "stdout",
     "output_type": "stream",
     "text": [
      "                 index  count1             word            index  count2  \\\n",
      "89075              e c    8243              e c              e c     943   \n",
      "36168    hamster ovary    9008    hamster ovary    hamster ovary     894   \n",
      "82855       chinese ha    8927       chinese ha       chinese ha     889   \n",
      "68204  chinese hamster    8926  chinese hamster  chinese hamster     888   \n",
      "39052              l c    6574              l c              l c     805   \n",
      "...                ...     ...              ...              ...     ...   \n",
      "91568    nutrient feed      10    nutrient feed    nutrient feed       9   \n",
      "60079        stem cell      46        stem cell        stem cell       9   \n",
      "5533       NUMERIC two     120      NUMERIC two      NUMERIC two       9   \n",
      "87025        one major      36        one major        one major       9   \n",
      "24833           e heat      51           e heat           e heat       9   \n",
      "\n",
      "         scores  \n",
      "89075  0.007670  \n",
      "36168 -0.005706  \n",
      "82855 -0.006118  \n",
      "68204 -0.006196  \n",
      "39052  0.034233  \n",
      "...         ...  \n",
      "91568  0.051843  \n",
      "60079  0.020461  \n",
      "5533  -0.016742  \n",
      "87025  0.027172  \n",
      "24833  0.017359  \n",
      "\n",
      "[1500 rows x 6 columns]\n"
     ]
    }
   ],
   "source": [
    "Na = 1050\n",
    "Nb = 9690\n",
    "for index,row in dict2.iterrows():\n",
    "        dict2.at[index,'scores'] = (((row['count2'])/(Na)) - ((row['count1'])/(Nb))) * np.log (Nb / (row['count1'])) \n",
    "print(dict2)"
   ]
  },
  {
   "cell_type": "code",
   "execution_count": 31,
   "id": "3f7be986",
   "metadata": {},
   "outputs": [
    {
     "name": "stdout",
     "output_type": "stream",
     "text": [
      "                    index  count1                 word                index  \\\n",
      "0                 cell cu     705              cell cu              cell cu   \n",
      "1               l culture     717            l culture            l culture   \n",
      "2            cell culture     632         cell culture         cell culture   \n",
      "3     recombinant protein     387  recombinant protein  recombinant protein   \n",
      "4               cell grow     484            cell grow            cell grow   \n",
      "...                   ...     ...                  ...                  ...   \n",
      "1495            NUMERIC n    1995            NUMERIC n            NUMERIC n   \n",
      "1496  transfected chinese     719  transfected chinese  transfected chinese   \n",
      "1497            NUMERIC r    3316            NUMERIC r            NUMERIC r   \n",
      "1498     NUMERIC receptor    1008     NUMERIC receptor     NUMERIC receptor   \n",
      "1499           receptor c    1276           receptor c           receptor c   \n",
      "\n",
      "      count2    scores  \n",
      "0        293  0.540620  \n",
      "1        290  0.526474  \n",
      "2        268  0.518737  \n",
      "3        201  0.487864  \n",
      "4        212  0.455377  \n",
      "...      ...       ...  \n",
      "1495     115 -0.152290  \n",
      "1496      14 -0.158314  \n",
      "1497     196 -0.166793  \n",
      "1498      11 -0.211712  \n",
      "1499      22 -0.224490  \n",
      "\n",
      "[1500 rows x 6 columns]\n",
      "                    index  count1                 word                index  \\\n",
      "0                 cell cu     705              cell cu              cell cu   \n",
      "1               l culture     717            l culture            l culture   \n",
      "2            cell culture     632         cell culture         cell culture   \n",
      "3     recombinant protein     387  recombinant protein  recombinant protein   \n",
      "4               cell grow     484            cell grow            cell grow   \n",
      "...                   ...     ...                  ...                  ...   \n",
      "1495            NUMERIC n    1995            NUMERIC n            NUMERIC n   \n",
      "1496  transfected chinese     719  transfected chinese  transfected chinese   \n",
      "1497            NUMERIC r    3316            NUMERIC r            NUMERIC r   \n",
      "1498     NUMERIC receptor    1008     NUMERIC receptor     NUMERIC receptor   \n",
      "1499           receptor c    1276           receptor c           receptor c   \n",
      "\n",
      "      count2    scores  \n",
      "0        293  0.540620  \n",
      "1        290  0.526474  \n",
      "2        268  0.518737  \n",
      "3        201  0.487864  \n",
      "4        212  0.455377  \n",
      "...      ...       ...  \n",
      "1495     115 -0.152290  \n",
      "1496      14 -0.158314  \n",
      "1497     196 -0.166793  \n",
      "1498      11 -0.211712  \n",
      "1499      22 -0.224490  \n",
      "\n",
      "[1500 rows x 6 columns]\n"
     ]
    }
   ],
   "source": [
    "rslt_score2 = dict2.sort_values(by = 'scores', ascending = False).reset_index(drop = True)\n",
    "rslt_score2.to_csv('eGiftScoringBigramBP.tsv',sep = '\\t')\n",
    "print(rslt_score2)\n",
    "\n",
    "#for use in Fisher\n",
    "rslt_score_for_fisher2 = dict2.sort_values(by = 'scores', ascending = False).reset_index(drop = True)\n",
    "print(rslt_score_for_fisher2)"
   ]
  },
  {
   "cell_type": "code",
   "execution_count": 32,
   "id": "dcaab820",
   "metadata": {},
   "outputs": [],
   "source": [
    "#FISHER STARTS HERE"
   ]
  },
  {
   "cell_type": "code",
   "execution_count": null,
   "id": "e44498f5",
   "metadata": {},
   "outputs": [],
   "source": []
  },
  {
   "cell_type": "code",
   "execution_count": null,
   "id": "1d19763c",
   "metadata": {},
   "outputs": [],
   "source": []
  },
  {
   "cell_type": "code",
   "execution_count": null,
   "id": "57a09550",
   "metadata": {},
   "outputs": [],
   "source": []
  },
  {
   "cell_type": "code",
   "execution_count": null,
   "id": "7af9090d",
   "metadata": {},
   "outputs": [],
   "source": []
  },
  {
   "cell_type": "code",
   "execution_count": null,
   "id": "7841f495",
   "metadata": {},
   "outputs": [],
   "source": []
  },
  {
   "cell_type": "code",
   "execution_count": 33,
   "id": "b6938242",
   "metadata": {},
   "outputs": [],
   "source": [
    "rslt_score3 = rslt_score_for_fisher1"
   ]
  },
  {
   "cell_type": "code",
   "execution_count": 34,
   "id": "5f06ba86",
   "metadata": {
    "scrolled": true
   },
   "outputs": [],
   "source": [
    "rslt_score3[\"a\"] = rslt_score3[\"count2\"]\n",
    "rslt_score3[\"b\"] = rslt_score3[\"count1\"] - rslt_score3[\"count2\"]\n",
    "rslt_score3[\"c\"] = 1050 - rslt_score3[\"count2\"]\n",
    "rslt_score3[\"d\"] = 8640 - (rslt_score3[\"count1\"] - rslt_score3[\"count2\"])\n",
    "#rslt_score3.to_csv('b.tsv',sep = '\\t')"
   ]
  },
  {
   "cell_type": "code",
   "execution_count": 35,
   "id": "4a307d74",
   "metadata": {},
   "outputs": [
    {
     "name": "stdout",
     "output_type": "stream",
     "text": [
      "             index  count1          word         index  count2    scores    a  \\\n",
      "0     productivity     323  productivity  productivity     251  0.699675  251   \n",
      "1       production    1323    production    production     472  0.623226  472   \n",
      "2          product    1945       product       product     617  0.621291  617   \n",
      "3          culture    1802       culture       culture     543  0.557107  543   \n",
      "4            batch     256         batch         batch     180  0.526917  180   \n",
      "...            ...     ...           ...           ...     ...       ...  ...   \n",
      "3495           cep    4045           cep           cep     159 -0.232392  159   \n",
      "3496       binding    2811       binding       binding     105 -0.235250  105   \n",
      "3497    activation    1960    activation    activation      57 -0.236502   57   \n",
      "3498       agonist    1488       agonist       agonist      12 -0.266307   12   \n",
      "3499      receptor    3599      receptor      receptor      87 -0.285798   87   \n",
      "\n",
      "         b     c     d   a+b   c+d   a+c   b+d  \n",
      "0       72   799  8568   323  9367  1050  8640  \n",
      "1      851   578  7789  1323  8367  1050  8640  \n",
      "2     1328   433  7312  1945  7745  1050  8640  \n",
      "3     1259   507  7381  1802  7888  1050  8640  \n",
      "4       76   870  8564   256  9434  1050  8640  \n",
      "...    ...   ...   ...   ...   ...   ...   ...  \n",
      "3495  3886   891  4754  4045  5645  1050  8640  \n",
      "3496  2706   945  5934  2811  6879  1050  8640  \n",
      "3497  1903   993  6737  1960  7730  1050  8640  \n",
      "3498  1476  1038  7164  1488  8202  1050  8640  \n",
      "3499  3512   963  5128  3599  6091  1050  8640  \n",
      "\n",
      "[3500 rows x 14 columns]\n"
     ]
    }
   ],
   "source": [
    "rslt_score3[\"a+b\"] = rslt_score3[\"a\"] + rslt_score3[\"b\"]\n",
    "rslt_score3[\"c+d\"] = rslt_score3[\"c\"] + rslt_score3[\"d\"]\n",
    "rslt_score3[\"a+c\"] = rslt_score3[\"a\"] + rslt_score3[\"c\"]\n",
    "rslt_score3[\"b+d\"] = rslt_score3[\"b\"] + rslt_score3[\"d\"]\n",
    "print(rslt_score3)\n",
    "#(rslt_score3[\"b\"]).to_csv('negative test.tsv',sep = '\\t')"
   ]
  },
  {
   "cell_type": "code",
   "execution_count": 36,
   "id": "4282de49",
   "metadata": {},
   "outputs": [],
   "source": [
    "#took factorial of each term individually to mkae it easier to run\n",
    "joined_factorial1 = []\n",
    "for x in rslt_score3[\"a\"]:\n",
    "    factorial = math.factorial(x)\n",
    "    #joinfact = ''.join(factorial)\n",
    "    joined_factorial1.append(factorial)\n",
    "#print((joined_factorial1))"
   ]
  },
  {
   "cell_type": "code",
   "execution_count": 37,
   "id": "6dd16e87",
   "metadata": {},
   "outputs": [
    {
     "name": "stdout",
     "output_type": "stream",
     "text": [
      "3500\n"
     ]
    }
   ],
   "source": [
    "joined_factorial2 = []\n",
    "for x in rslt_score3[\"b\"]:\n",
    "    #joinfact = ''.join(factorial)\n",
    "        factorial = math.factorial(x)\n",
    "        joined_factorial2.append(factorial)\n",
    "print(len(joined_factorial2))"
   ]
  },
  {
   "cell_type": "code",
   "execution_count": 38,
   "id": "a68f9288",
   "metadata": {},
   "outputs": [
    {
     "name": "stdout",
     "output_type": "stream",
     "text": [
      "3500\n"
     ]
    }
   ],
   "source": [
    "joined_factorial3 = []\n",
    "for x in rslt_score3[\"c\"]:\n",
    "    if x < 0:\n",
    "        joined_factorial3.append(1)\n",
    "    else:\n",
    "        factorial = math.factorial(x)\n",
    "        #joinfact = ''.join(factorial)\n",
    "        joined_factorial3.append(factorial)\n",
    "print(len(joined_factorial3))"
   ]
  },
  {
   "cell_type": "code",
   "execution_count": 39,
   "id": "465a4c0b",
   "metadata": {},
   "outputs": [
    {
     "name": "stdout",
     "output_type": "stream",
     "text": [
      "3500\n"
     ]
    }
   ],
   "source": [
    "joined_factorial4 = []\n",
    "for x in rslt_score3[\"d\"]:\n",
    "    factorial = math.factorial(x)\n",
    "    #joinfact = ''.join(factorial)\n",
    "    joined_factorial4.append(factorial)\n",
    "print(len(joined_factorial4))"
   ]
  },
  {
   "cell_type": "code",
   "execution_count": 40,
   "id": "17ce8cfc",
   "metadata": {},
   "outputs": [
    {
     "name": "stdout",
     "output_type": "stream",
     "text": [
      "3500\n"
     ]
    }
   ],
   "source": [
    "joined_factorial5 = []\n",
    "for x in rslt_score3[\"a+b\"]:\n",
    "    factorial = math.factorial(x)\n",
    "    #joinfact = ''.join(factorial)\n",
    "    joined_factorial5.append(factorial)\n",
    "print(len(joined_factorial5))"
   ]
  },
  {
   "cell_type": "code",
   "execution_count": 41,
   "id": "1837f5bd",
   "metadata": {},
   "outputs": [
    {
     "name": "stdout",
     "output_type": "stream",
     "text": [
      "3500\n"
     ]
    }
   ],
   "source": [
    "joined_factorial6 = []\n",
    "for x in rslt_score3[\"c+d\"]:\n",
    "    factorial = math.factorial(x)\n",
    "    #joinfact = ''.join(factorial)\n",
    "    joined_factorial6.append(factorial)\n",
    "print(len(joined_factorial6))"
   ]
  },
  {
   "cell_type": "code",
   "execution_count": 42,
   "id": "4f40d879",
   "metadata": {},
   "outputs": [
    {
     "name": "stdout",
     "output_type": "stream",
     "text": [
      "3500\n"
     ]
    }
   ],
   "source": [
    "joined_factorial7 = []\n",
    "for x in rslt_score3[\"a+c\"]:\n",
    "    factorial = math.factorial(x)\n",
    "    #joinfact = ''.join(factorial)\n",
    "    joined_factorial7.append(factorial)\n",
    "print(len(joined_factorial7))"
   ]
  },
  {
   "cell_type": "code",
   "execution_count": 43,
   "id": "5ad2f772",
   "metadata": {},
   "outputs": [
    {
     "name": "stdout",
     "output_type": "stream",
     "text": [
      "3500\n"
     ]
    }
   ],
   "source": [
    "joined_factorial8 = []\n",
    "for x in rslt_score3[\"b+d\"]:\n",
    "    factorial = math.factorial(x)\n",
    "    #joinfact = ''.join(factorial)\n",
    "    joined_factorial8.append(factorial)\n",
    "print(len(joined_factorial8))"
   ]
  },
  {
   "cell_type": "code",
   "execution_count": 44,
   "id": "3ae094d0",
   "metadata": {},
   "outputs": [],
   "source": [
    "n = math.factorial(9690)"
   ]
  },
  {
   "cell_type": "code",
   "execution_count": 45,
   "id": "af181c8f",
   "metadata": {},
   "outputs": [
    {
     "name": "stdout",
     "output_type": "stream",
     "text": [
      "3500\n"
     ]
    }
   ],
   "source": [
    "fisher_list_numerator = []\n",
    "for x in range(3500):\n",
    "    numerator = joined_factorial5[x] * joined_factorial6[x] * joined_factorial7[x] * joined_factorial8[x]\n",
    "    fisher_list_numerator.append(numerator)\n",
    "print(len(fisher_list_numerator))\n",
    "\n"
   ]
  },
  {
   "cell_type": "code",
   "execution_count": 46,
   "id": "bcb6f51a",
   "metadata": {},
   "outputs": [
    {
     "name": "stdout",
     "output_type": "stream",
     "text": [
      "3500\n"
     ]
    }
   ],
   "source": [
    "fisher_list_denominator = []\n",
    "\n",
    "for x in range(3500):\n",
    "    denominator = joined_factorial1[x] * joined_factorial2[x] * joined_factorial3[x] * joined_factorial4[x] * n \n",
    "    fisher_list_denominator.append(denominator)\n",
    "print(len(fisher_list_denominator))"
   ]
  },
  {
   "cell_type": "code",
   "execution_count": 47,
   "id": "adb6abd0",
   "metadata": {},
   "outputs": [
    {
     "name": "stdout",
     "output_type": "stream",
     "text": [
      "               index  count1            word           index  count2  \\\n",
      "0        facilitates      55     facilitates     facilitates       6   \n",
      "1       hypoxanthine      55    hypoxanthine    hypoxanthine       6   \n",
      "2          microbial      54       microbial       microbial       6   \n",
      "3          differing      54       differing       differing       6   \n",
      "4     factor-NUMERIC      54  factor-NUMERIC  factor-NUMERIC       6   \n",
      "...              ...     ...             ...             ...     ...   \n",
      "3495     recombinant    1846     recombinant     recombinant     512   \n",
      "3496         culture    1802         culture         culture     543   \n",
      "3497      production    1323      production      production     472   \n",
      "3498    productivity     323    productivity    productivity     251   \n",
      "3499         product    1945         product         product     617   \n",
      "\n",
      "        scores    a     b     c     d   a+b   c+d   a+c   b+d  Fisher Scores  \n",
      "0     0.000198    6    49  1044  8591    55  9635  1050  8640   1.706034e-01  \n",
      "1     0.000198    6    49  1044  8591    55  9635  1050  8640   1.706034e-01  \n",
      "2     0.000735    6    48  1044  8592    54  9636  1050  8640   1.704604e-01  \n",
      "3     0.000735    6    48  1044  8592    54  9636  1050  8640   1.704604e-01  \n",
      "4     0.000735    6    48  1044  8592    54  9636  1050  8640   1.704604e-01  \n",
      "...        ...  ...   ...   ...   ...   ...   ...   ...   ...            ...  \n",
      "3495  0.492636  512  1334   538  7306  1846  7844  1050  8640  4.077963e-121  \n",
      "3496  0.557107  543  1259   507  7381  1802  7888  1050  8640  8.471375e-150  \n",
      "3497  0.623226  472   851   578  7789  1323  8367  1050  8640  1.199427e-158  \n",
      "3498  0.699675  251    72   799  8568   323  9367  1050  8640  2.470082e-185  \n",
      "3499  0.621291  617  1328   433  7312  1945  7745  1050  8640  3.113722e-193  \n",
      "\n",
      "[3500 rows x 15 columns]\n"
     ]
    }
   ],
   "source": [
    "fisher_list_score = []\n",
    "for x in range(3500):\n",
    "    value = (fisher_list_numerator[x]) / (fisher_list_denominator[x])\n",
    "    fisher_list_score.append(value)\n",
    "#print((fisher_list_score))\n",
    "\n",
    "rslt_score3[\"Fisher Scores\"] = fisher_list_score\n",
    "#print(rslt_score1)\n",
    "new_order = rslt_score3.sort_values(by = 'Fisher Scores', ascending = False).reset_index(drop = True)\n",
    "print(new_order)"
   ]
  },
  {
   "cell_type": "code",
   "execution_count": 48,
   "id": "f324e9b5",
   "metadata": {},
   "outputs": [
    {
     "name": "stdout",
     "output_type": "stream",
     "text": [
      "               index  count1            word           index  count2  \\\n",
      "0        facilitates      55     facilitates     facilitates       6   \n",
      "1       hypoxanthine      55    hypoxanthine    hypoxanthine       6   \n",
      "2          microbial      54       microbial       microbial       6   \n",
      "3          differing      54       differing       differing       6   \n",
      "4     factor-NUMERIC      54  factor-NUMERIC  factor-NUMERIC       6   \n",
      "...              ...     ...             ...             ...     ...   \n",
      "3495     recombinant    1846     recombinant     recombinant     512   \n",
      "3496         culture    1802         culture         culture     543   \n",
      "3497      production    1323      production      production     472   \n",
      "3498    productivity     323    productivity    productivity     251   \n",
      "3499         product    1945         product         product     617   \n",
      "\n",
      "        scores  Fisher Scores  \n",
      "0     0.000198   1.706034e-01  \n",
      "1     0.000198   1.706034e-01  \n",
      "2     0.000735   1.704604e-01  \n",
      "3     0.000735   1.704604e-01  \n",
      "4     0.000735   1.704604e-01  \n",
      "...        ...            ...  \n",
      "3495  0.492636  4.077963e-121  \n",
      "3496  0.557107  8.471375e-150  \n",
      "3497  0.623226  1.199427e-158  \n",
      "3498  0.699675  2.470082e-185  \n",
      "3499  0.621291  3.113722e-193  \n",
      "\n",
      "[3500 rows x 7 columns]\n"
     ]
    }
   ],
   "source": [
    "final_scoring = new_order.drop(['a','b', 'c', 'd', 'a+b', 'c+d', 'a+c', 'b+d'],axis = 1)\n",
    "print(final_scoring)\n",
    "final_scoring.to_csv('FisherUnigramBP.tsv',sep = '\\t')"
   ]
  },
  {
   "cell_type": "code",
   "execution_count": null,
   "id": "f8b88807",
   "metadata": {},
   "outputs": [],
   "source": []
  },
  {
   "cell_type": "code",
   "execution_count": 49,
   "id": "60644e34",
   "metadata": {},
   "outputs": [],
   "source": [
    "#Fisher Test Bigram"
   ]
  },
  {
   "cell_type": "code",
   "execution_count": 50,
   "id": "d55cefad",
   "metadata": {},
   "outputs": [],
   "source": [
    "rslt_score4 = rslt_score_for_fisher2"
   ]
  },
  {
   "cell_type": "code",
   "execution_count": 51,
   "id": "22b6ce9e",
   "metadata": {},
   "outputs": [],
   "source": [
    "rslt_score4[\"a\"] = rslt_score4[\"count2\"]\n",
    "rslt_score4[\"b\"] = rslt_score4[\"count1\"] - rslt_score4[\"count2\"]\n",
    "rslt_score4[\"c\"] = 1050 - rslt_score4[\"count2\"]\n",
    "rslt_score4[\"d\"] = 8640 - rslt_score4[\"b\"]\n",
    "#rslt_score4.to_csv('b.tsv',sep = '\\t')\n",
    "#(rslt_score4[\"b\"]).to_csv('negative test.tsv',sep = '\\t')"
   ]
  },
  {
   "cell_type": "code",
   "execution_count": 52,
   "id": "8c48e8cf",
   "metadata": {},
   "outputs": [
    {
     "name": "stdout",
     "output_type": "stream",
     "text": [
      "                    index  count1                 word                index  \\\n",
      "0                 cell cu     705              cell cu              cell cu   \n",
      "1               l culture     717            l culture            l culture   \n",
      "2            cell culture     632         cell culture         cell culture   \n",
      "3     recombinant protein     387  recombinant protein  recombinant protein   \n",
      "4               cell grow     484            cell grow            cell grow   \n",
      "...                   ...     ...                  ...                  ...   \n",
      "1495            NUMERIC n    1995            NUMERIC n            NUMERIC n   \n",
      "1496  transfected chinese     719  transfected chinese  transfected chinese   \n",
      "1497            NUMERIC r    3316            NUMERIC r            NUMERIC r   \n",
      "1498     NUMERIC receptor    1008     NUMERIC receptor     NUMERIC receptor   \n",
      "1499           receptor c    1276           receptor c           receptor c   \n",
      "\n",
      "      count2    scores    a     b     c     d   a+b   c+d   a+c   b+d  \n",
      "0        293  0.540620  293   412   757  8228   705  8985  1050  8640  \n",
      "1        290  0.526474  290   427   760  8213   717  8973  1050  8640  \n",
      "2        268  0.518737  268   364   782  8276   632  9058  1050  8640  \n",
      "3        201  0.487864  201   186   849  8454   387  9303  1050  8640  \n",
      "4        212  0.455377  212   272   838  8368   484  9206  1050  8640  \n",
      "...      ...       ...  ...   ...   ...   ...   ...   ...   ...   ...  \n",
      "1495     115 -0.152290  115  1880   935  6760  1995  7695  1050  8640  \n",
      "1496      14 -0.158314   14   705  1036  7935   719  8971  1050  8640  \n",
      "1497     196 -0.166793  196  3120   854  5520  3316  6374  1050  8640  \n",
      "1498      11 -0.211712   11   997  1039  7643  1008  8682  1050  8640  \n",
      "1499      22 -0.224490   22  1254  1028  7386  1276  8414  1050  8640  \n",
      "\n",
      "[1500 rows x 14 columns]\n"
     ]
    }
   ],
   "source": [
    "rslt_score4[\"a+b\"] = rslt_score4[\"a\"] + rslt_score4[\"b\"]\n",
    "rslt_score4[\"c+d\"] = rslt_score4[\"c\"] + rslt_score4[\"d\"]\n",
    "rslt_score4[\"a+c\"] = rslt_score4[\"a\"] + rslt_score4[\"c\"]\n",
    "rslt_score4[\"b+d\"] = rslt_score4[\"b\"] + rslt_score4[\"d\"]\n",
    "print(rslt_score4)"
   ]
  },
  {
   "cell_type": "code",
   "execution_count": 53,
   "id": "8ded1c5d",
   "metadata": {},
   "outputs": [
    {
     "name": "stdout",
     "output_type": "stream",
     "text": [
      "1500\n"
     ]
    }
   ],
   "source": [
    "joined_factorial9 = []\n",
    "for x in rslt_score4[\"a\"]:\n",
    "    factorial = math.factorial(x)\n",
    "    #joinfact = ''.join(factorial)\n",
    "    joined_factorial9.append(factorial)\n",
    "print(len(joined_factorial9))"
   ]
  },
  {
   "cell_type": "code",
   "execution_count": 54,
   "id": "42583733",
   "metadata": {},
   "outputs": [
    {
     "name": "stdout",
     "output_type": "stream",
     "text": [
      "1500\n"
     ]
    }
   ],
   "source": [
    "joined_factorial10 = []\n",
    "for x in rslt_score4[\"b\"]:\n",
    "    #joinfact = ''.join(factorial)\n",
    "        factorial = math.factorial(x)\n",
    "        joined_factorial10.append(factorial)\n",
    "print(len(joined_factorial10))"
   ]
  },
  {
   "cell_type": "code",
   "execution_count": 55,
   "id": "1d8c43b4",
   "metadata": {},
   "outputs": [
    {
     "name": "stdout",
     "output_type": "stream",
     "text": [
      "1500\n"
     ]
    }
   ],
   "source": [
    "joined_factorial11 = []\n",
    "for x in rslt_score4[\"c\"]:\n",
    "    factorial = math.factorial(x)\n",
    "    #joinfact = ''.join(factorial)\n",
    "    joined_factorial11.append(factorial)\n",
    "print(len(joined_factorial11))"
   ]
  },
  {
   "cell_type": "code",
   "execution_count": 56,
   "id": "aeb3dd41",
   "metadata": {},
   "outputs": [
    {
     "name": "stdout",
     "output_type": "stream",
     "text": [
      "1500\n"
     ]
    }
   ],
   "source": [
    "joined_factorial12 = []\n",
    "for x in rslt_score4[\"d\"]:\n",
    "    factorial = math.factorial(x)\n",
    "    #joinfact = ''.join(factorial)\n",
    "    joined_factorial12.append(factorial)\n",
    "print(len(joined_factorial12))"
   ]
  },
  {
   "cell_type": "code",
   "execution_count": 57,
   "id": "ba84e557",
   "metadata": {},
   "outputs": [
    {
     "name": "stdout",
     "output_type": "stream",
     "text": [
      "1500\n"
     ]
    }
   ],
   "source": [
    "joined_factorial13 = []\n",
    "for x in rslt_score4[\"a+b\"]:\n",
    "    factorial = math.factorial(x)\n",
    "    #joinfact = ''.join(factorial)\n",
    "    joined_factorial13.append(factorial)\n",
    "print(len(joined_factorial13))"
   ]
  },
  {
   "cell_type": "code",
   "execution_count": 58,
   "id": "f86b2530",
   "metadata": {},
   "outputs": [
    {
     "name": "stdout",
     "output_type": "stream",
     "text": [
      "1500\n"
     ]
    }
   ],
   "source": [
    "joined_factorial14 = []\n",
    "for x in rslt_score4[\"c+d\"]:\n",
    "    factorial = math.factorial(x)\n",
    "    #joinfact = ''.join(factorial)\n",
    "    joined_factorial14.append(factorial)\n",
    "print(len(joined_factorial14))"
   ]
  },
  {
   "cell_type": "code",
   "execution_count": 59,
   "id": "1b0faefa",
   "metadata": {},
   "outputs": [
    {
     "name": "stdout",
     "output_type": "stream",
     "text": [
      "1500\n"
     ]
    }
   ],
   "source": [
    "joined_factorial15 = []\n",
    "for x in rslt_score4[\"a+c\"]:\n",
    "    factorial = math.factorial(x)\n",
    "    #joinfact = ''.join(factorial)\n",
    "    joined_factorial15.append(factorial)\n",
    "print(len(joined_factorial15))"
   ]
  },
  {
   "cell_type": "code",
   "execution_count": 60,
   "id": "b49a49e1",
   "metadata": {},
   "outputs": [
    {
     "name": "stdout",
     "output_type": "stream",
     "text": [
      "1500\n"
     ]
    }
   ],
   "source": [
    "joined_factorial16 = []\n",
    "for x in rslt_score4[\"b+d\"]:\n",
    "    factorial = math.factorial(x)\n",
    "    #joinfact = ''.join(factorial)\n",
    "    joined_factorial16.append(factorial)\n",
    "print(len(joined_factorial16))"
   ]
  },
  {
   "cell_type": "code",
   "execution_count": 61,
   "id": "e7b7c412",
   "metadata": {},
   "outputs": [
    {
     "name": "stdout",
     "output_type": "stream",
     "text": [
      "1500\n"
     ]
    }
   ],
   "source": [
    "fisher_list_numerator2 = []\n",
    "for x in range(1500):\n",
    "    numerator2 = joined_factorial13[x] * joined_factorial14[x] * joined_factorial15[x] * joined_factorial16[x]\n",
    "    fisher_list_numerator2.append(numerator2)\n",
    "print(len(fisher_list_numerator2))"
   ]
  },
  {
   "cell_type": "code",
   "execution_count": 62,
   "id": "113f25b7",
   "metadata": {},
   "outputs": [
    {
     "name": "stdout",
     "output_type": "stream",
     "text": [
      "1500\n"
     ]
    }
   ],
   "source": [
    "fisher_list_denominator2 = []\n",
    "\n",
    "for x in range(1500):\n",
    "    denominator2 = joined_factorial9[x] * joined_factorial10[x] * joined_factorial11[x] * joined_factorial12[x] * n \n",
    "    fisher_list_denominator2.append(denominator2)\n",
    "print(len(fisher_list_denominator2))"
   ]
  },
  {
   "cell_type": "code",
   "execution_count": 63,
   "id": "b3f69f60",
   "metadata": {},
   "outputs": [
    {
     "name": "stdout",
     "output_type": "stream",
     "text": [
      "                    index  count1                 word                index  \\\n",
      "0                cell may      82             cell may             cell may   \n",
      "1                  well r      81               well r               well r   \n",
      "2          cell determine      81       cell determine       cell determine   \n",
      "3         protein involve      79      protein involve      protein involve   \n",
      "4          cellular level      78       cellular level       cellular level   \n",
      "...                   ...     ...                  ...                  ...   \n",
      "1495              batch c     177              batch c              batch c   \n",
      "1496  recombinant protein     387  recombinant protein  recombinant protein   \n",
      "1497         cell culture     632         cell culture         cell culture   \n",
      "1498            l culture     717            l culture            l culture   \n",
      "1499              cell cu     705              cell cu              cell cu   \n",
      "\n",
      "      count2    scores    a    b     c     d  a+b   c+d   a+c   b+d  \\\n",
      "0          9  0.000521    9   73  1041  8567   82  9608  1050  8640   \n",
      "1          9  0.001016    9   72  1041  8568   81  9609  1050  8640   \n",
      "2          9  0.001016    9   72  1041  8568   81  9609  1050  8640   \n",
      "3          9  0.002014    9   70  1041  8570   79  9611  1050  8640   \n",
      "4          9  0.002517    9   69  1041  8571   78  9612  1050  8640   \n",
      "...      ...       ...  ...  ...   ...   ...  ...   ...   ...   ...   \n",
      "1495     131  0.426270  131   46   919  8594  177  9513  1050  8640   \n",
      "1496     201  0.487864  201  186   849  8454  387  9303  1050  8640   \n",
      "1497     268  0.518737  268  364   782  8276  632  9058  1050  8640   \n",
      "1498     290  0.526474  290  427   760  8213  717  8973  1050  8640   \n",
      "1499     293  0.540620  293  412   757  8228  705  8985  1050  8640   \n",
      "\n",
      "      Fisher Scores  \n",
      "0      1.401087e-01  \n",
      "1      1.398855e-01  \n",
      "2      1.398855e-01  \n",
      "3      1.387936e-01  \n",
      "4      1.379186e-01  \n",
      "...             ...  \n",
      "1495   1.332412e-89  \n",
      "1496   2.216635e-95  \n",
      "1497  2.070855e-102  \n",
      "1498  2.533314e-105  \n",
      "1499  3.060440e-110  \n",
      "\n",
      "[1500 rows x 15 columns]\n"
     ]
    }
   ],
   "source": [
    "fisher_list_score2 = []\n",
    "for x in range(1500):\n",
    "    value2 = (fisher_list_numerator2[x]) / (fisher_list_denominator2[x])\n",
    "    fisher_list_score2.append(value2)\n",
    "#print((fisher_list_score))\n",
    "\n",
    "rslt_score4[\"Fisher Scores\"] = fisher_list_score2\n",
    "#print(rslt_score1)\n",
    "new_order2 = rslt_score4.sort_values(by = 'Fisher Scores', ascending = False).reset_index(drop = True)\n",
    "print(new_order2)"
   ]
  },
  {
   "cell_type": "code",
   "execution_count": 64,
   "id": "c736a688",
   "metadata": {},
   "outputs": [
    {
     "name": "stdout",
     "output_type": "stream",
     "text": [
      "                    index  count1                 word                index  \\\n",
      "0                cell may      82             cell may             cell may   \n",
      "1                  well r      81               well r               well r   \n",
      "2          cell determine      81       cell determine       cell determine   \n",
      "3         protein involve      79      protein involve      protein involve   \n",
      "4          cellular level      78       cellular level       cellular level   \n",
      "...                   ...     ...                  ...                  ...   \n",
      "1495              batch c     177              batch c              batch c   \n",
      "1496  recombinant protein     387  recombinant protein  recombinant protein   \n",
      "1497         cell culture     632         cell culture         cell culture   \n",
      "1498            l culture     717            l culture            l culture   \n",
      "1499              cell cu     705              cell cu              cell cu   \n",
      "\n",
      "      count2    scores  Fisher Scores  \n",
      "0          9  0.000521   1.401087e-01  \n",
      "1          9  0.001016   1.398855e-01  \n",
      "2          9  0.001016   1.398855e-01  \n",
      "3          9  0.002014   1.387936e-01  \n",
      "4          9  0.002517   1.379186e-01  \n",
      "...      ...       ...            ...  \n",
      "1495     131  0.426270   1.332412e-89  \n",
      "1496     201  0.487864   2.216635e-95  \n",
      "1497     268  0.518737  2.070855e-102  \n",
      "1498     290  0.526474  2.533314e-105  \n",
      "1499     293  0.540620  3.060440e-110  \n",
      "\n",
      "[1500 rows x 7 columns]\n"
     ]
    }
   ],
   "source": [
    "final_scoring2 = new_order2.drop(['a','b', 'c', 'd', 'a+b', 'c+d', 'a+c', 'b+d'],axis = 1)\n",
    "print(final_scoring2)\n",
    "final_scoring2.to_csv('FisherBigramBP.tsv',sep = '\\t')"
   ]
  },
  {
   "cell_type": "code",
   "execution_count": 65,
   "id": "6608c5c6",
   "metadata": {
    "scrolled": false
   },
   "outputs": [
    {
     "name": "stdout",
     "output_type": "stream",
     "text": [
      "               index  count1            word           index  count2  \\\n",
      "0        facilitates      55     facilitates     facilitates       6   \n",
      "1       hypoxanthine      55    hypoxanthine    hypoxanthine       6   \n",
      "2          microbial      54       microbial       microbial       6   \n",
      "3          differing      54       differing       differing       6   \n",
      "4     factor-NUMERIC      54  factor-NUMERIC  factor-NUMERIC       6   \n",
      "...              ...     ...             ...             ...     ...   \n",
      "3495     recombinant    1846     recombinant     recombinant     512   \n",
      "3496         culture    1802         culture         culture     543   \n",
      "3497      production    1323      production      production     472   \n",
      "3498    productivity     323    productivity    productivity     251   \n",
      "3499         product    1945         product         product     617   \n",
      "\n",
      "        scores  Fisher Scores  \n",
      "0     0.000198   1.706034e-01  \n",
      "1     0.000198   1.706034e-01  \n",
      "2     0.000735   1.704604e-01  \n",
      "3     0.000735   1.704604e-01  \n",
      "4     0.000735   1.704604e-01  \n",
      "...        ...            ...  \n",
      "3495  0.492636  4.077963e-121  \n",
      "3496  0.557107  8.471375e-150  \n",
      "3497  0.623226  1.199427e-158  \n",
      "3498  0.699675  2.470082e-185  \n",
      "3499  0.621291  3.113722e-193  \n",
      "\n",
      "[3500 rows x 7 columns]\n",
      "                    index  count1                 word                index  \\\n",
      "0                cell may      82             cell may             cell may   \n",
      "1                  well r      81               well r               well r   \n",
      "2          cell determine      81       cell determine       cell determine   \n",
      "3         protein involve      79      protein involve      protein involve   \n",
      "4          cellular level      78       cellular level       cellular level   \n",
      "...                   ...     ...                  ...                  ...   \n",
      "1495              batch c     177              batch c              batch c   \n",
      "1496  recombinant protein     387  recombinant protein  recombinant protein   \n",
      "1497         cell culture     632         cell culture         cell culture   \n",
      "1498            l culture     717            l culture            l culture   \n",
      "1499              cell cu     705              cell cu              cell cu   \n",
      "\n",
      "      count2    scores  Fisher Scores  \n",
      "0          9  0.000521   1.401087e-01  \n",
      "1          9  0.001016   1.398855e-01  \n",
      "2          9  0.001016   1.398855e-01  \n",
      "3          9  0.002014   1.387936e-01  \n",
      "4          9  0.002517   1.379186e-01  \n",
      "...      ...       ...            ...  \n",
      "1495     131  0.426270   1.332412e-89  \n",
      "1496     201  0.487864   2.216635e-95  \n",
      "1497     268  0.518737  2.070855e-102  \n",
      "1498     290  0.526474  2.533314e-105  \n",
      "1499     293  0.540620  3.060440e-110  \n",
      "\n",
      "[1500 rows x 7 columns]\n"
     ]
    }
   ],
   "source": [
    "print(final_scoring)\n",
    "print(final_scoring2)"
   ]
  },
  {
   "cell_type": "code",
   "execution_count": 66,
   "id": "888d6746",
   "metadata": {},
   "outputs": [
    {
     "name": "stdout",
     "output_type": "stream",
     "text": [
      "               index  count1            word           index  count2  \\\n",
      "0        facilitates      55     facilitates     facilitates       6   \n",
      "1       hypoxanthine      55    hypoxanthine    hypoxanthine       6   \n",
      "2          microbial      54       microbial       microbial       6   \n",
      "4     factor-NUMERIC      54  factor-NUMERIC  factor-NUMERIC       6   \n",
      "3          differing      54       differing       differing       6   \n",
      "...              ...     ...             ...             ...     ...   \n",
      "3495     recombinant    1846     recombinant     recombinant     512   \n",
      "3496         culture    1802         culture         culture     543   \n",
      "3497      production    1323      production      production     472   \n",
      "3498    productivity     323    productivity    productivity     251   \n",
      "3499         product    1945         product         product     617   \n",
      "\n",
      "        scores  Fisher Scores  \n",
      "0     0.000198   1.706034e-01  \n",
      "1     0.000198   1.706034e-01  \n",
      "2     0.000735   1.704604e-01  \n",
      "4     0.000735   1.704604e-01  \n",
      "3     0.000735   1.704604e-01  \n",
      "...        ...            ...  \n",
      "3495  0.492636  4.077963e-121  \n",
      "3496  0.557107  8.471375e-150  \n",
      "3497  0.623226  1.199427e-158  \n",
      "3498  0.699675  2.470082e-185  \n",
      "3499  0.621291  3.113722e-193  \n",
      "\n",
      "[5000 rows x 7 columns]\n"
     ]
    }
   ],
   "source": [
    "#sort scores based off fisher test to be used as custom vocabulary\n",
    "feature_list = final_scoring.append(final_scoring2, ignore_index = True)\n",
    "feature_list.sort_values(by = 'Fisher Scores', ascending = False, inplace = True)\n",
    "feature_list.to_csv('combinedFeatureListBPFisher.tsv',sep = '\\t')\n",
    "print(feature_list)"
   ]
  },
  {
   "cell_type": "code",
   "execution_count": 67,
   "id": "09d86129",
   "metadata": {},
   "outputs": [
    {
     "name": "stdout",
     "output_type": "stream",
     "text": [
      "             index  count1          word         index  count2    scores\n",
      "0     productivity     323  productivity  productivity     251  0.699675\n",
      "1       production    1323    production    production     472  0.623226\n",
      "2          product    1945       product       product     617  0.621291\n",
      "3          culture    1802       culture       culture     543  0.557107\n",
      "3500       cell cu     705       cell cu       cell cu     293  0.540620\n",
      "...            ...     ...           ...           ...     ...       ...\n",
      "3495           cep    4045           cep           cep     159 -0.232392\n",
      "3496       binding    2811       binding       binding     105 -0.235250\n",
      "3497    activation    1960    activation    activation      57 -0.236502\n",
      "3498       agonist    1488       agonist       agonist      12 -0.266307\n",
      "3499      receptor    3599      receptor      receptor      87 -0.285798\n",
      "\n",
      "[5000 rows x 6 columns]\n"
     ]
    }
   ],
   "source": [
    "feature_list2 = rslt_score1.append(rslt_score2, ignore_index = True)\n",
    "feature_list2.sort_values(by = 'scores', ascending = False, inplace = True)\n",
    "feature_list2.to_csv('combinedFeatureListBPeGift.tsv',sep = '\\t')\n",
    "print(feature_list2)"
   ]
  },
  {
   "cell_type": "code",
   "execution_count": null,
   "id": "e366db6d",
   "metadata": {},
   "outputs": [],
   "source": []
  },
  {
   "cell_type": "code",
   "execution_count": 68,
   "id": "577a3515",
   "metadata": {},
   "outputs": [],
   "source": [
    "#pick the vocab set and length to be used\n",
    "myvocab ={}\n",
    "count = 0\n",
    "top = feature_list['word'].head(2700)\n",
    "top.to_csv('vocabBP.tsv',sep = '\\t')\n",
    "for x in top:\n",
    "    myvocab[str(x)] = count\n",
    "    count+=1\n",
    "#print(myvocab)"
   ]
  },
  {
   "cell_type": "code",
   "execution_count": 69,
   "id": "cd6319d8",
   "metadata": {},
   "outputs": [],
   "source": [
    "#correct distribution with undersampling\n",
    "undersample = full_set\n",
    "undersample.sort_values(by = 'Label', ascending = False, inplace = True)\n",
    "#print(undersample)\n",
    "y = undersample[:1000]\n",
    "#print(y)\n",
    "x = undersample[1000:]\n",
    "#print(len(x))\n",
    "#print(x)\n",
    "z = x.sample(frac=0.1, replace=True, random_state=1)\n",
    "#print(z)\n",
    "\n",
    "frames = [y, z]\n",
    "new_set = pd.concat(frames)\n",
    "#print(new_set)\n",
    "new_set.to_csv('undersample.tsv',sep = '\\t')\n",
    "new_set.sort_values(by = 'docID_Bibliome', ascending = False, inplace = True)\n",
    "#print(new_set)"
   ]
  },
  {
   "cell_type": "code",
   "execution_count": 70,
   "id": "b0b15a42",
   "metadata": {},
   "outputs": [
    {
     "name": "stdout",
     "output_type": "stream",
     "text": [
      "1495\n",
      "374\n"
     ]
    }
   ],
   "source": [
    "training_data, testing_data = train_test_split(new_set,random_state = 2000, test_size = 0.2)\n",
    "print(len(training_data))\n",
    "print(len(testing_data))"
   ]
  },
  {
   "cell_type": "code",
   "execution_count": 71,
   "id": "0e4c7cd9",
   "metadata": {},
   "outputs": [],
   "source": [
    "Y_train = training_data['Label'].values\n",
    "Y_test = testing_data['Label'].values"
   ]
  },
  {
   "cell_type": "code",
   "execution_count": 72,
   "id": "69872142",
   "metadata": {},
   "outputs": [],
   "source": [
    "def extract_features(df,field,training_data,testing_data,type=\"binary\"):\n",
    "    if \"binary\" in type:\n",
    "        \n",
    "        # BINARY FEATURE REPRESENTATION\n",
    "        cv= CountVectorizer(binary=True, max_df=0.9)#my list of top terms\n",
    "        cv.fit_transform(training_data[field].values)#transform my datafframe field using the list of top terms\n",
    "        \n",
    "        train_feature_set=cv.transform(training_data[field].values)\n",
    "        test_feature_set=cv.transform(testing_data[field].values)\n",
    "        \n",
    "        return train_feature_set,test_feature_set,cv\n",
    "  \n",
    "    elif \"counts\" in type:\n",
    "        \n",
    "        # COUNT BASED FEATURE REPRESENTATION\n",
    "        cv= CountVectorizer(binary=False, max_df=0.95)\n",
    "        cv.fit_transform(training_data[field].values)\n",
    "        \n",
    "        train_feature_set=cv.transform(training_data[field].values)\n",
    "        test_feature_set=cv.transform(testing_data[field].values)\n",
    "        \n",
    "        return train_feature_set,test_feature_set,cv\n",
    "    \n",
    "    \n",
    "    elif \"tf-idf\" in type:    \n",
    "        \n",
    "        # TF-IDF BASED FEATURE REPRESENTATION\n",
    "        tfidf_vectorizer=TfidfVectorizer(use_idf=True, min_df = 0.1 , max_df=0.95, max_features = 235, ngram_range = (1,3))\n",
    "        #print(tfidf_vectorizer)\n",
    "        tfidf_vectorizer.fit_transform(training_data[field].values)\n",
    "        \n",
    "        names = tfidf_vectorizer.get_feature_names()\n",
    "        #print(names)\n",
    "        \n",
    "        feature_set = tfidf_vectorizer.transform(df[field].values)\n",
    "        \n",
    "        train_feature_set=tfidf_vectorizer.transform(training_data[field].values)\n",
    "        test_feature_set=tfidf_vectorizer.transform(testing_data[field].values)\n",
    "        \n",
    "        return train_feature_set,test_feature_set,tfidf_vectorizer, feature_set\n",
    "    \n",
    "    else:\n",
    "        #method for Fisher terms\n",
    "        vectorizer = TfidfVectorizer(use_idf = False,max_df = 0.95, vocabulary=myvocab)\n",
    "        vectorizer.fit_transform(training_data[field].values)\n",
    "        #print(X)\n",
    "        \n",
    "        feature_set = vectorizer.transform(df[field].values)\n",
    "        \n",
    "        train_feature_set= vectorizer.transform(training_data[field].values)\n",
    "        test_feature_set= vectorizer.transform(testing_data[field].values)\n",
    "        \n",
    "        return train_feature_set,test_feature_set, vectorizer, feature_set"
   ]
  },
  {
   "cell_type": "code",
   "execution_count": 73,
   "id": "c3643609",
   "metadata": {},
   "outputs": [],
   "source": [
    "def get_top_k_predictions(model,X_test,k):\n",
    "    \n",
    "# get probabilities instead of predicted labels, since we want to collect top 3\n",
    "    probs = model.predict_proba(X_test)\n",
    "\n",
    "# GET TOP K PREDICTIONS BY PROB - note these are just index\n",
    "    best_n = np.argsort(probs, axis=1)[:,-k:]\n",
    "    \n",
    "# GET CATEGORY OF PREDICTIONS\n",
    "    preds=[[model.classes_[predicted_cat] for predicted_cat in prediction] for prediction in best_n]\n",
    "    \n",
    "# REVERSE CATEGORIES - DESCENDING ORDER OF IMPORTANCE\n",
    "    preds=[ item[::-1] for item in preds]\n",
    "    \n",
    "    return preds"
   ]
  },
  {
   "cell_type": "code",
   "execution_count": 74,
   "id": "2ffe4009",
   "metadata": {},
   "outputs": [],
   "source": [
    "field = 'processed_abstracts'\n",
    "feature_rep = 'other'\n",
    "top_k = 1"
   ]
  },
  {
   "cell_type": "code",
   "execution_count": 75,
   "id": "75cdf3c8",
   "metadata": {},
   "outputs": [],
   "source": [
    "X_train,X_test,feature_transformer, X = extract_features(new_set,field,training_data,testing_data,type=feature_rep)\n"
   ]
  },
  {
   "cell_type": "code",
   "execution_count": 76,
   "id": "e04e2cdc",
   "metadata": {},
   "outputs": [
    {
     "name": "stdout",
     "output_type": "stream",
     "text": [
      "TfidfVectorizer(max_df=0.95, use_idf=False,\n",
      "                vocabulary={'-/': 506, '-NUMERIC NUMERIC': 1881,\n",
      "                            '-NUMERIC c': 2664, '-NUMERIC cho': 481,\n",
      "                            '-NUMERIC express': 511, '-NUMERIC increase': 790,\n",
      "                            '-NUMERIC k': 827, '-NUMERIC mg': 2209,\n",
      "                            '-NUMERIC result': 289, '-NUMERIC show': 253,\n",
      "                            '-NUMERICa': 356, '-NUMERICb': 78,\n",
      "                            '-NUMERICgal': 1448, '-NUMERICh': 2293,\n",
      "                            '-anchored': 736, '-and': 431, '-beta': 660,\n",
      "                            '-bound': 2411, '-cNUMERIC': 45, '-cells': 612,\n",
      "                            '-cho': 1164, '-cho cell': 325, '-containing': 882,\n",
      "                            '-cys': 162, '-defective': 830, '-deficient': 1226,\n",
      "                            '-deficient cho': 2600, '-depleted': 98,\n",
      "                            '-derived': 890, '-derived cell': 2155, ...})\n"
     ]
    }
   ],
   "source": [
    "print(feature_transformer)"
   ]
  },
  {
   "cell_type": "code",
   "execution_count": 77,
   "id": "4ca8d97a",
   "metadata": {},
   "outputs": [
    {
     "name": "stdout",
     "output_type": "stream",
     "text": [
      "[LibLinear]"
     ]
    }
   ],
   "source": [
    "scikit_log_reg = LogisticRegression(verbose=1, solver='liblinear',multi_class = 'auto', random_state=10, C=1,max_iter=1000)\n",
    "model=scikit_log_reg.fit(X_train,Y_train)"
   ]
  },
  {
   "cell_type": "code",
   "execution_count": 78,
   "id": "ed1b5b36",
   "metadata": {},
   "outputs": [
    {
     "name": "stdout",
     "output_type": "stream",
     "text": [
      "[1, 0, 0, 0, 1, 1, 1, 1, 1, 0, 1, 0, 0, 0, 0, 1, 1, 1, 1, 0, 1, 1, 1, 0, 0, 0, 0, 1, 1, 0, 1, 0, 1, 1, 1, 1, 0, 1, 1, 1, 0, 1, 1, 1, 1, 1, 1, 0, 1, 1, 0, 0, 0, 1, 1, 1, 1, 1, 1, 1, 0, 1, 0, 1, 1, 1, 0, 1, 1, 1, 1, 0, 0, 0, 0, 1, 1, 1, 0, 0, 0, 0, 0, 1, 1, 1, 0, 0, 1, 1, 0, 0, 1, 0, 1, 1, 1, 0, 1, 1, 0, 0, 1, 1, 0, 1, 1, 1, 1, 0, 1, 1, 1, 0, 1, 1, 0, 0, 1, 1, 1, 1, 0, 1, 0, 1, 1, 0, 1, 0, 0, 0, 1, 1, 1, 1, 1, 0, 0, 1, 1, 0, 1, 0, 0, 0, 1, 0, 1, 1, 1, 0, 1, 0, 1, 0, 1, 0, 1, 0, 0, 1, 1, 0, 0, 1, 0, 1, 1, 1, 0, 0, 1, 1, 1, 1, 0, 1, 0, 1, 1, 1, 1, 1, 0, 1, 1, 0, 0, 1, 1, 1, 0, 1, 1, 0, 1, 0, 1, 0, 1, 1, 1, 1, 0, 1, 1, 1, 0, 0, 1, 0, 1, 0, 0, 1, 0, 1, 1, 0, 1, 0, 0, 1, 0, 1, 1, 1, 0, 1, 0, 1, 1, 1, 1, 1, 0, 1, 1, 0, 0, 0, 1, 1, 0, 0, 1, 0, 1, 1, 1, 1, 1, 1, 0, 1, 1, 1, 0, 1, 1, 0, 1, 1, 1, 1, 1, 0, 0, 1, 1, 0, 0, 0, 1, 1, 0, 1, 1, 0, 1, 1, 1, 1, 0, 1, 0, 1, 1, 1, 1, 0, 1, 0, 1, 0, 1, 1, 1, 1, 0, 1, 0, 1, 0, 1, 1, 1, 1, 1, 1, 1, 0, 1, 0, 0, 1, 1, 0, 1, 1, 1, 1, 1, 0, 0, 0, 1, 1, 0, 1, 1, 0, 1, 1, 1, 0, 1, 1, 1, 1, 1, 0, 0, 0, 0, 0, 1, 1, 1, 1, 1, 1, 1, 0, 1, 0, 0, 1, 0, 1, 0, 1, 0, 1, 1, 1, 1, 1, 1, 0, 0, 1, 0]\n"
     ]
    }
   ],
   "source": [
    "preds=get_top_k_predictions(model,X_test,top_k)\n",
    "Y_predicted = ([x[0] for x in preds])\n",
    "print(Y_predicted)"
   ]
  },
  {
   "cell_type": "code",
   "execution_count": 79,
   "id": "30a6f22f",
   "metadata": {},
   "outputs": [
    {
     "name": "stdout",
     "output_type": "stream",
     "text": [
      "[[101  75]\n",
      " [ 40 158]]\n"
     ]
    }
   ],
   "source": [
    "cm = confusion_matrix(Y_test,Y_predicted)\n",
    "print(cm)"
   ]
  },
  {
   "cell_type": "code",
   "execution_count": 80,
   "id": "1301adb4",
   "metadata": {},
   "outputs": [
    {
     "name": "stdout",
     "output_type": "stream",
     "text": [
      "              precision    recall  f1-score   support\n",
      "\n",
      "           0       0.72      0.57      0.64       176\n",
      "           1       0.68      0.80      0.73       198\n",
      "\n",
      "    accuracy                           0.69       374\n",
      "   macro avg       0.70      0.69      0.69       374\n",
      "weighted avg       0.70      0.69      0.69       374\n",
      "\n"
     ]
    }
   ],
   "source": [
    "print(sklearn.metrics.classification_report(Y_test,Y_predicted))"
   ]
  },
  {
   "cell_type": "code",
   "execution_count": 81,
   "id": "55d9c3a2",
   "metadata": {},
   "outputs": [
    {
     "name": "stdout",
     "output_type": "stream",
     "text": [
      "[LibLinear][LibLinear][LibLinear][LibLinear][LibLinear][LibLinear][LibLinear][LibLinear][LibLinear][LibLinear][0.70588235 0.65240642 0.65775401 0.6631016  0.68983957 0.77005348\n",
      " 0.71122995 0.60962567 0.63101604 0.6344086 ]\n"
     ]
    }
   ],
   "source": [
    "Y = new_set['Label']\n",
    "\n",
    "scores = cross_val_score(model, X, Y, cv=10)\n",
    "print(scores)"
   ]
  },
  {
   "cell_type": "code",
   "execution_count": 82,
   "id": "360108ad",
   "metadata": {},
   "outputs": [
    {
     "name": "stdout",
     "output_type": "stream",
     "text": [
      "Accuracy of the model with a 10-fold cross validation:  67.2531769305963\n"
     ]
    }
   ],
   "source": [
    "avg = scores.mean()\n",
    "print(\"Accuracy of the model with a 10-fold cross validation: \", avg * 100)"
   ]
  },
  {
   "cell_type": "code",
   "execution_count": null,
   "id": "490c5e9d",
   "metadata": {},
   "outputs": [],
   "source": []
  },
  {
   "cell_type": "code",
   "execution_count": null,
   "id": "2941e50c",
   "metadata": {},
   "outputs": [],
   "source": []
  },
  {
   "cell_type": "code",
   "execution_count": null,
   "id": "35b74924",
   "metadata": {},
   "outputs": [],
   "source": []
  },
  {
   "cell_type": "code",
   "execution_count": null,
   "id": "9db26b4c",
   "metadata": {},
   "outputs": [],
   "source": []
  },
  {
   "cell_type": "code",
   "execution_count": null,
   "id": "a363f6ca",
   "metadata": {},
   "outputs": [],
   "source": []
  },
  {
   "cell_type": "code",
   "execution_count": null,
   "id": "b3178867",
   "metadata": {},
   "outputs": [],
   "source": []
  }
 ],
 "metadata": {
  "kernelspec": {
   "display_name": "Python 3",
   "language": "python",
   "name": "python3"
  },
  "language_info": {
   "codemirror_mode": {
    "name": "ipython",
    "version": 3
   },
   "file_extension": ".py",
   "mimetype": "text/x-python",
   "name": "python",
   "nbconvert_exporter": "python",
   "pygments_lexer": "ipython3",
   "version": "3.8.8"
  }
 },
 "nbformat": 4,
 "nbformat_minor": 5
}
